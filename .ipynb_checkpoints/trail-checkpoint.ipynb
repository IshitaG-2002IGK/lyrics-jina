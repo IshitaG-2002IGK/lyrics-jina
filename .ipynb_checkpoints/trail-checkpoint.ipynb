{
 "cells": [
  {
   "cell_type": "code",
   "execution_count": 13,
   "id": "eac0dd35-9985-4f21-bf09-0f66b9f79ec1",
   "metadata": {},
   "outputs": [],
   "source": [
    "\n",
    "# !wget https://raw.githubusercontent.com/jina-ai/workshops/main/memes/requirements.txt -qN\n",
    "# !pip install -r requirements.txt\n",
    "# !pip install pandas \n",
    "# !pip install sentence-transformers"
   ]
  },
  {
   "cell_type": "code",
   "execution_count": 14,
   "id": "241b4baa-7672-4c1d-87a1-ede53c9f623a",
   "metadata": {},
   "outputs": [],
   "source": [
    "from jina import Document, DocumentArray\n",
    "import pandas as pd \n",
    "import random"
   ]
  },
  {
   "cell_type": "code",
   "execution_count": 20,
   "id": "6a4c4d04-5255-4873-b519-e41d110934ce",
   "metadata": {},
   "outputs": [],
   "source": [
    "def prep_docs(input_file : str, num_size = -1, shuffle=True):\n",
    "    docs = DocumentArray()\n",
    "    error = []\n",
    "    print(f\"Processing {input_file}\")\n",
    "\n",
    "    df = pd.read_csv(input_file)\n",
    "    df = df.dropna().drop_duplicates()\n",
    "    n = df.shape[0]\n",
    "    \n",
    "\n",
    "    if shuffle:\n",
    "        df = df.sample(frac = 1)\n",
    "    \n",
    "    num_size = n if num_size == -1 else num_size\n",
    "\n",
    "    for idx in range(n):\n",
    "        pname = df.iloc[idx, 0]\n",
    "        pcate = df.iloc[idx, 1]\n",
    "        pdesc = df.iloc[idx, 2]\n",
    "        doctext = pname.replace('\\n',' ').strip()\n",
    "        if len(doctext) > 0:\n",
    "            doc = Document(text=doctext)\n",
    "            doc.tags['Song'] = pdesc.replace('\\n',' ').strip()\n",
    "            docs.extend([doc])\n",
    "\n",
    "    return docs[:num_size]"
   ]
  },
  {
   "cell_type": "code",
   "execution_count": 21,
   "id": "3fbc6f41-7f1a-433f-9c44-6f35ddcf5b96",
   "metadata": {},
   "outputs": [
    {
     "name": "stdout",
     "output_type": "stream",
     "text": [
      "Processing lyrics-JINA - Sheet1.csv\n"
     ]
    },
    {
     "ename": "AttributeError",
     "evalue": "'numpy.int64' object has no attribute 'replace'",
     "output_type": "error",
     "traceback": [
      "\u001b[0;31m---------------------------------------------------------------------------\u001b[0m",
      "\u001b[0;31mAttributeError\u001b[0m                            Traceback (most recent call last)",
      "\u001b[0;32m/tmp/ipykernel_10312/484876509.py\u001b[0m in \u001b[0;36m<module>\u001b[0;34m\u001b[0m\n\u001b[0;32m----> 1\u001b[0;31m \u001b[0mdocs\u001b[0m \u001b[0;34m=\u001b[0m \u001b[0mprep_docs\u001b[0m\u001b[0;34m(\u001b[0m\u001b[0minput_file\u001b[0m\u001b[0;34m=\u001b[0m \u001b[0;34m\"lyrics-JINA - Sheet1.csv\"\u001b[0m\u001b[0;34m,\u001b[0m \u001b[0mnum_size\u001b[0m \u001b[0;34m=\u001b[0m \u001b[0;36m30\u001b[0m\u001b[0;34m,\u001b[0m \u001b[0mshuffle\u001b[0m\u001b[0;34m=\u001b[0m\u001b[0;32mTrue\u001b[0m\u001b[0;34m)\u001b[0m\u001b[0;34m\u001b[0m\u001b[0;34m\u001b[0m\u001b[0m\n\u001b[0m\u001b[1;32m      2\u001b[0m \u001b[0mdocs\u001b[0m\u001b[0;34m\u001b[0m\u001b[0;34m\u001b[0m\u001b[0m\n",
      "\u001b[0;32m/tmp/ipykernel_10312/3743147139.py\u001b[0m in \u001b[0;36mprep_docs\u001b[0;34m(input_file, num_size, shuffle)\u001b[0m\n\u001b[1;32m     18\u001b[0m         \u001b[0mpcate\u001b[0m \u001b[0;34m=\u001b[0m \u001b[0mdf\u001b[0m\u001b[0;34m.\u001b[0m\u001b[0miloc\u001b[0m\u001b[0;34m[\u001b[0m\u001b[0midx\u001b[0m\u001b[0;34m,\u001b[0m \u001b[0;36m1\u001b[0m\u001b[0;34m]\u001b[0m\u001b[0;34m\u001b[0m\u001b[0;34m\u001b[0m\u001b[0m\n\u001b[1;32m     19\u001b[0m         \u001b[0mpdesc\u001b[0m \u001b[0;34m=\u001b[0m \u001b[0mdf\u001b[0m\u001b[0;34m.\u001b[0m\u001b[0miloc\u001b[0m\u001b[0;34m[\u001b[0m\u001b[0midx\u001b[0m\u001b[0;34m,\u001b[0m \u001b[0;36m2\u001b[0m\u001b[0;34m]\u001b[0m\u001b[0;34m\u001b[0m\u001b[0;34m\u001b[0m\u001b[0m\n\u001b[0;32m---> 20\u001b[0;31m         \u001b[0mdoctext\u001b[0m \u001b[0;34m=\u001b[0m \u001b[0mpname\u001b[0m\u001b[0;34m.\u001b[0m\u001b[0mreplace\u001b[0m\u001b[0;34m(\u001b[0m\u001b[0;34m'\\n'\u001b[0m\u001b[0;34m,\u001b[0m\u001b[0;34m' '\u001b[0m\u001b[0;34m)\u001b[0m\u001b[0;34m.\u001b[0m\u001b[0mstrip\u001b[0m\u001b[0;34m(\u001b[0m\u001b[0;34m)\u001b[0m\u001b[0;34m\u001b[0m\u001b[0;34m\u001b[0m\u001b[0m\n\u001b[0m\u001b[1;32m     21\u001b[0m         \u001b[0;32mif\u001b[0m \u001b[0mlen\u001b[0m\u001b[0;34m(\u001b[0m\u001b[0mdoctext\u001b[0m\u001b[0;34m)\u001b[0m \u001b[0;34m>\u001b[0m \u001b[0;36m0\u001b[0m\u001b[0;34m:\u001b[0m\u001b[0;34m\u001b[0m\u001b[0;34m\u001b[0m\u001b[0m\n\u001b[1;32m     22\u001b[0m             \u001b[0mdoc\u001b[0m \u001b[0;34m=\u001b[0m \u001b[0mDocument\u001b[0m\u001b[0;34m(\u001b[0m\u001b[0mtext\u001b[0m\u001b[0;34m=\u001b[0m\u001b[0mdoctext\u001b[0m\u001b[0;34m)\u001b[0m\u001b[0;34m\u001b[0m\u001b[0;34m\u001b[0m\u001b[0m\n",
      "\u001b[0;31mAttributeError\u001b[0m: 'numpy.int64' object has no attribute 'replace'"
     ]
    }
   ],
   "source": [
    "\n",
    "docs = prep_docs(input_file= \"lyrics-JINA - Sheet1.csv\", num_size = 30, shuffle=True)\n",
    "docs"
   ]
  },
  {
   "cell_type": "code",
   "execution_count": null,
   "id": "2a188a79-4f00-43e0-9e60-478b452ce87e",
   "metadata": {},
   "outputs": [],
   "source": []
  },
  {
   "cell_type": "code",
   "execution_count": null,
   "id": "4abde8ec-381e-4da4-ab0a-27fb98e80726",
   "metadata": {},
   "outputs": [],
   "source": []
  }
 ],
 "metadata": {
  "kernelspec": {
   "display_name": "Python 3 (ipykernel)",
   "language": "python",
   "name": "python3"
  },
  "language_info": {
   "codemirror_mode": {
    "name": "ipython",
    "version": 3
   },
   "file_extension": ".py",
   "mimetype": "text/x-python",
   "name": "python",
   "nbconvert_exporter": "python",
   "pygments_lexer": "ipython3",
   "version": "3.8.11"
  }
 },
 "nbformat": 4,
 "nbformat_minor": 5
}
