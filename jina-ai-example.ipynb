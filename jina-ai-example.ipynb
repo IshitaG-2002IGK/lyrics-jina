{
 "cells": [
  {
   "cell_type": "code",
   "execution_count": 1,
   "id": "9a721762",
   "metadata": {},
   "outputs": [],
   "source": [
    "from jina import Flow, Executor, requests, Document, DocumentArray\n",
    "import pandas as pd\n",
    "import numpy as np "
   ]
  },
  {
   "cell_type": "markdown",
   "id": "9ed4fa0e",
   "metadata": {},
   "source": [
    "### 3 main fundamental jina concepts \n",
    "\n",
    "* document\n",
    "* executor \n",
    "* flow"
   ]
  },
  {
   "cell_type": "code",
   "execution_count": 2,
   "id": "91cd684c",
   "metadata": {},
   "outputs": [
    {
     "data": {
      "text/html": [
       "<div>\n",
       "<style scoped>\n",
       "    .dataframe tbody tr th:only-of-type {\n",
       "        vertical-align: middle;\n",
       "    }\n",
       "\n",
       "    .dataframe tbody tr th {\n",
       "        vertical-align: top;\n",
       "    }\n",
       "\n",
       "    .dataframe thead th {\n",
       "        text-align: right;\n",
       "    }\n",
       "</style>\n",
       "<table border=\"1\" class=\"dataframe\">\n",
       "  <thead>\n",
       "    <tr style=\"text-align: right;\">\n",
       "      <th></th>\n",
       "      <th>Index</th>\n",
       "      <th>Singer</th>\n",
       "      <th>Song</th>\n",
       "      <th>Lyrics</th>\n",
       "      <th>Collected By</th>\n",
       "    </tr>\n",
       "  </thead>\n",
       "  <tbody>\n",
       "    <tr>\n",
       "      <th>0</th>\n",
       "      <td>1</td>\n",
       "      <td>Bruno Mars</td>\n",
       "      <td>24 K Magic</td>\n",
       "      <td>Tonight\\nI just want to take you higher\\nThrow...</td>\n",
       "      <td>Ishita</td>\n",
       "    </tr>\n",
       "    <tr>\n",
       "      <th>1</th>\n",
       "      <td>2</td>\n",
       "      <td>Taylor Swift</td>\n",
       "      <td>Wildest Dreams</td>\n",
       "      <td>He said, \"Let's get out of this town\\nDrive ou...</td>\n",
       "      <td>Ishita</td>\n",
       "    </tr>\n",
       "    <tr>\n",
       "      <th>2</th>\n",
       "      <td>3</td>\n",
       "      <td>Green Day</td>\n",
       "      <td>Numb</td>\n",
       "      <td>I'm tired of being what you want me to be\\nFee...</td>\n",
       "      <td>Ishita</td>\n",
       "    </tr>\n",
       "    <tr>\n",
       "      <th>3</th>\n",
       "      <td>4</td>\n",
       "      <td>Macklemore</td>\n",
       "      <td>Glorius</td>\n",
       "      <td>You know I'm back like I never left\\nAnother s...</td>\n",
       "      <td>Ishita</td>\n",
       "    </tr>\n",
       "    <tr>\n",
       "      <th>4</th>\n",
       "      <td>5</td>\n",
       "      <td>Ariana Grande</td>\n",
       "      <td>POV</td>\n",
       "      <td>It's like you got superpowers\\nTurn my minutes...</td>\n",
       "      <td>Ishita</td>\n",
       "    </tr>\n",
       "  </tbody>\n",
       "</table>\n",
       "</div>"
      ],
      "text/plain": [
       "   Index         Singer            Song  \\\n",
       "0      1     Bruno Mars      24 K Magic   \n",
       "1      2   Taylor Swift  Wildest Dreams   \n",
       "2      3      Green Day            Numb   \n",
       "3      4     Macklemore         Glorius   \n",
       "4      5  Ariana Grande             POV   \n",
       "\n",
       "                                              Lyrics Collected By  \n",
       "0  Tonight\\nI just want to take you higher\\nThrow...       Ishita  \n",
       "1  He said, \"Let's get out of this town\\nDrive ou...       Ishita  \n",
       "2  I'm tired of being what you want me to be\\nFee...       Ishita  \n",
       "3  You know I'm back like I never left\\nAnother s...       Ishita  \n",
       "4  It's like you got superpowers\\nTurn my minutes...       Ishita  "
      ]
     },
     "execution_count": 2,
     "metadata": {},
     "output_type": "execute_result"
    }
   ],
   "source": [
    "df = pd.read_csv('lyrics-JINA - Sheet1.csv')\n",
    "df.head()"
   ]
  },
  {
   "cell_type": "code",
   "execution_count": 3,
   "id": "210df249",
   "metadata": {},
   "outputs": [
    {
     "data": {
      "text/plain": [
       "(33, 5)"
      ]
     },
     "execution_count": 3,
     "metadata": {},
     "output_type": "execute_result"
    }
   ],
   "source": [
    "df = df.drop_duplicates().dropna()\n",
    "df.shape"
   ]
  },
  {
   "cell_type": "markdown",
   "id": "daefc6c3",
   "metadata": {},
   "source": [
    "### sample songs"
   ]
  },
  {
   "cell_type": "code",
   "execution_count": 19,
   "id": "9ef730f7",
   "metadata": {},
   "outputs": [
    {
     "name": "stdout",
     "output_type": "stream",
     "text": [
      "\n",
      "                             Song name : 24 K Magic                             \n",
      "                            Singer Name : Bruno Mars                            \n",
      "\n",
      "Tonight\n",
      "I just want to take you higher\n",
      "Throw your hands up in the sky\n",
      "Let's set this party off right\n",
      "Players, put yo' pinky rings up to the moon\n",
      "Girls, what y'all trying to do?\n",
      "Twenty four karat magic in the air\n",
      "Head to toe so player\n",
      "Look out uh\n",
      "Pop pop, it's show time (show time)\n",
      "Show time (show time)\n",
      "Guess who's back again?\n",
      "Oh they don't know? (Go on tell 'em)\n",
      "Oh they don't know? (Go on tell 'em)\n",
      "I bet they know soon as we walk in (showin' up)\n",
      "Wearing Cuban links (ya)\n",
      "Designer minks (ya)\n",
      "Inglewood's finest shoes (whoop, whoop)\n",
      "Don't look too hard might hurt ya'self\n",
      "Known to give the color red the blues\n",
      "Oh shit, I'm a dangerous man with some money in my pocket (keep up)\n",
      "So many pretty girls around me and they waking up the rocket (keep up)\n",
      "Why you mad, fix ya face, ain't my fault y'all be jocking (keep up)\n",
      "Players only, come on\n",
      "Put your pinky rings up to the moon\n",
      "Girls, what y'all trying to do?\n",
      "Twenty four karat magic in the air\n",
      "Head to toe so player\n",
      "Uh, look out!\n",
      "Second verse for the hustlas (hustlas) gangstas (gangstas)\n",
      "Bad bitches and ya ugly ass friends (haha)\n",
      "Can I preach? (uh oh) can I preach? (uh oh)\n",
      "I gotta show 'em how a pimp get it in\n",
      "First, take your sip (sip), do your dip (dip)\n",
      "Spend your money like money ain't shit (whoop, whoop)\n",
      "We too fresh\n",
      "Got to blame in on Jesus\n",
      "Hashtag blessed, they ain't ready for me\n",
      "I'm a dangerous man with some money in my pocket (keep up)\n",
      "So many pretty girls around me and they waking up the rocket (keep up)\n",
      "Why you mad, fix ya face, ain't my fault y'all be jocking (keep up)\n",
      "Players only, come on\n",
      "Put your pinky rings up to the moon\n",
      "Hey girls\n",
      "What y'all trying to do? (What y'all trying to do?)\n",
      "Twenty four karat magic in the air\n",
      "Head to toe so player\n",
      "Uh, look out!\n",
      "everywhere I go they be like\n",
      "Ooh, so player\n",
      "Everywhere I go they be like (ooh, so player ooh)\n",
      "Oh everywhere I go they be like (ooh, so player ooh)\n",
      "Now, now, now watch me break it down like (uh)\n",
      "Twenty four karat, twenty four karat magic\n",
      "What's that sound (twenty four karat, twenty four karat magic)\n",
      "Come on now\n",
      "Twenty four karat, twenty four karat magic\n",
      "Don't fight the feeling, invite the feeling\n",
      "Just put your pinky rings up to the moon\n",
      "Girls, what y'all trying to do? (Tell me what y'all trying to do)\n",
      "Twenty four karat magic in the air\n",
      "Head to toe so player (hands up!)\n",
      "Put your pinky rings up to the moon\n",
      "Girls, what y'all trying to do? (Do)\n",
      "Twenty four karat magic in the air\n",
      "Head to toe so player (twenty four karat) uh, look out\n",
      "\n",
      "\n",
      "--------------------------------------------------------------------------------\n",
      "\n",
      "                           Song name : Wildest Dreams                           \n",
      "                           Singer Name : Taylor Swift                           \n",
      "\n",
      "He said, \"Let's get out of this town\n",
      "Drive out of the city, away from the crowds\"\n",
      "I thought heaven can't help me now\n",
      "Nothing lasts forever, but this is gonna take me down\n",
      "He's so tall and handsome as hell\n",
      "He's so bad but he does it so well\n",
      "I can see the end as it begins\n",
      "My one condition is\n",
      "Say you'll remember me standing in a nice dress\n",
      "Staring at the sunset, babe\n",
      "Red lips and rosy cheeks\n",
      "Say you'll see me again\n",
      "Even if it's just in your wildest dreams, ah-ha\n",
      "Wildest dreams, ah-ha\n",
      "I said, \"No one has to know what we do\"\n",
      "His hands are in my hair, his clothes are in my room\n",
      "And his voice is a familiar sound\n",
      "Nothing lasts forever but this is getting good now\n",
      "He's so tall and handsome as hell\n",
      "He's so bad but he does it so well\n",
      "And when we've had our very last kiss\n",
      "My last request it is\n",
      "Say you'll remember me standing in a nice dress\n",
      "Staring at the sunset, babe\n",
      "Red lips and rosy cheeks\n",
      "Say you'll see me again\n",
      "Even if it's just in your wildest dreams, ah-ha\n",
      "Wildest dreams, ah-ha\n",
      "You'll see me in hindsight\n",
      "Tangled up with you all night\n",
      "Burnin' it down\n",
      "Someday when you leave me\n",
      "I bet these memories\n",
      "Follow you around\n",
      "You'll see me in hindsight\n",
      "Tangled up with you all night\n",
      "Burnin' it down\n",
      "Someday when you leave me\n",
      "I bet these memories\n",
      "Follow you around\n",
      "Say you'll remember me standing in a nice dress\n",
      "Staring at the sunset, babe\n",
      "Red lips and rosy cheeks\n",
      "Say you'll see me again\n",
      "Even if it's just pretend\n",
      "Say you'll remember me standing in a nice dress\n",
      "Staring at the sunset, babe\n",
      "Red lips and rosy cheeks\n",
      "Say you'll see me again\n",
      "Even if it's just in your (Just pretend, just pretend)\n",
      "Wildest dreams, ah-ha\n",
      "In your wildest dreams, ah-ha\n",
      "(Even if it's just in your)\n",
      "In your wildest dreams, ah-ha\n",
      "In your wildest dreams, ah-ha\n",
      "\n",
      "--------------------------------------------------------------------------------\n",
      "\n",
      "                                Song name : Numb                                \n",
      "                            Singer Name : Green Day                             \n",
      "\n",
      "I'm tired of being what you want me to be\n",
      "Feeling so faithless, lost under the surface\n",
      "Don't know what you're expecting of me\n",
      "Put under the pressure of walking in your shoes\n",
      "Every step that I take is another mistake to you\n",
      "(Caught in the undertow, just caught in the undertow)\n",
      "I've become so numb\n",
      "I can't feel you there\n",
      "Become so tired\n",
      "So much more aware\n",
      "I'm becoming this\n",
      "All I want to do\n",
      "Is be more like me\n",
      "And be less like you\n",
      "Can't you see that you're smothering me\n",
      "Holding too tightly, afraid to lose control?\n",
      "'Cause everything that you thought I would be\n",
      "Has fallen apart right in front of you\n",
      "Every step that I take is another mistake to you\n",
      "(Caught in the undertow, just caught in the undertow)\n",
      "And every second I waste is more than I can take\n",
      "I've become so numb\n",
      "I can't feel you there\n",
      "Become so tired\n",
      "So much more aware\n",
      "I'm becoming this\n",
      "All I want to do\n",
      "Is be more like me\n",
      "And be less like you\n",
      "And I know\n",
      "I may end up failing too\n",
      "But I know\n",
      "You were just like me with someone disappointed in you\n",
      "I've become so numb\n",
      "I can't feel you there\n",
      "Become so tired\n",
      "So much more aware\n",
      "I'm becoming this\n",
      "All I want to do\n",
      "Is be more like me\n",
      "And be less like you\n",
      "I've become so numb\n",
      "I can't feel you there\n",
      "(I'm tired of being what you want me to be)\n",
      "I've become so numb\n",
      "I can't feel you there\n",
      "(I'm tired of being what you want me to be)\n",
      "\n",
      "--------------------------------------------------------------------------------\n"
     ]
    }
   ],
   "source": [
    "for ind in range(3):\n",
    "    print()\n",
    "    print(f\" Song name : {df.iloc[ind, 2]} \".center(80, ' '))\n",
    "    print(f\" Singer Name : {df.iloc[ind, 1]} \".center(80, ' '))\n",
    "    # print(f\" Singer name : {df.iloc[ind, 0]} \".center(80, ' '))\n",
    "    print()\n",
    "    print(df.iloc[ind, 3])\n",
    "    print()\n",
    "    print('-' * 80)"
   ]
  },
  {
   "cell_type": "markdown",
   "id": "357839fb",
   "metadata": {},
   "source": [
    "### creating a document and documentArray"
   ]
  },
  {
   "cell_type": "code",
   "execution_count": 5,
   "id": "75e74248",
   "metadata": {},
   "outputs": [],
   "source": [
    "# basic document \n",
    "\n",
    "# Document(text = 'something')  # use it for strings \n",
    "# Document(content = 'something') # use it when you dont know what type of jina data type it is \n",
    "# Document(blob = 'img, vid, audio') # use it for images, audios and videos\n",
    "# Document(uri = 'local file path or url link') # can be any form a local or remote link"
   ]
  },
  {
   "cell_type": "code",
   "execution_count": 16,
   "id": "abb57ce8",
   "metadata": {},
   "outputs": [
    {
     "data": {
      "text/plain": [
       "<jina.types.arrays.document.DocumentArray length=33 at 140628195378608>"
      ]
     },
     "execution_count": 16,
     "metadata": {},
     "output_type": "execute_result"
    }
   ],
   "source": [
    "docs = DocumentArray()\n",
    "for ind in range(df.shape[0]):\n",
    "    song_name = df.iloc[ind, 2]\n",
    "    lyr = df.iloc[ind, 3]\n",
    "    doc = Document(text = song_name)\n",
    "    doc.tags['Lyrics'] = lyr\n",
    "    docs.append(doc)\n",
    "    \n",
    "docs"
   ]
  },
  {
   "cell_type": "code",
   "execution_count": 17,
   "id": "54b0b47b",
   "metadata": {},
   "outputs": [
    {
     "data": {
      "text/plain": [
       "'{\\n  \"id\": \"88e2e994-373c-11ec-a791-69fbdffe8014\",\\n  \"mime_type\": \"text/plain\",\\n  \"tags\": {\\n    \"Lyrics\": \"Tonight\\\\nI just want to take you higher\\\\nThrow your hands up in the sky\\\\nLet\\'s set this party off right\\\\nPlayers, put yo\\' pinky rings up to the moon\\\\nGirls, what y\\'all trying to do?\\\\nTwenty four karat magic in the air\\\\nHead to toe so player\\\\nLook out uh\\\\nPop pop, it\\'s show time (show time)\\\\nShow time (show time)\\\\nGuess who\\'s back again?\\\\nOh they don\\'t know? (Go on tell \\'em)\\\\nOh they don\\'t know? (Go on tell \\'em)\\\\nI bet they know soon as we walk in (showin\\' up)\\\\nWearing Cuban links (ya)\\\\nDesigner minks (ya)\\\\nInglewood\\'s finest shoes (whoop, whoop)\\\\nDon\\'t look too hard might hurt ya\\'self\\\\nKnown to give the color red the blues\\\\nOh shit, I\\'m a dangerous man with some money in my pocket (keep up)\\\\nSo many pretty girls around me and they waking up the rocket (keep up)\\\\nWhy you mad, fix ya face, ain\\'t my fault y\\'all be jocking (keep up)\\\\nPlayers only, come on\\\\nPut your pinky rings up to the moon\\\\nGirls, what y\\'all trying to do?\\\\nTwenty four karat magic in the air\\\\nHead to toe so player\\\\nUh, look out!\\\\nSecond verse for the hustlas (hustlas) gangstas (gangstas)\\\\nBad bitches and ya ugly ass friends (haha)\\\\nCan I preach? (uh oh) can I preach? (uh oh)\\\\nI gotta show \\'em how a pimp get it in\\\\nFirst, take your sip (sip), do your dip (dip)\\\\nSpend your money like money ain\\'t shit (whoop, whoop)\\\\nWe too fresh\\\\nGot to blame in on Jesus\\\\nHashtag blessed, they ain\\'t ready for me\\\\nI\\'m a dangerous man with some money in my pocket (keep up)\\\\nSo many pretty girls around me and they waking up the rocket (keep up)\\\\nWhy you mad, fix ya face, ain\\'t my fault y\\'all be jocking (keep up)\\\\nPlayers only, come on\\\\nPut your pinky rings up to the moon\\\\nHey girls\\\\nWhat y\\'all trying to do? (What y\\'all trying to do?)\\\\nTwenty four karat magic in the air\\\\nHead to toe so player\\\\nUh, look out!\\\\neverywhere I go they be like\\\\nOoh, so player\\\\nEverywhere I go they be like (ooh, so player ooh)\\\\nOh everywhere I go they be like (ooh, so player ooh)\\\\nNow, now, now watch me break it down like (uh)\\\\nTwenty four karat, twenty four karat magic\\\\nWhat\\'s that sound (twenty four karat, twenty four karat magic)\\\\nCome on now\\\\nTwenty four karat, twenty four karat magic\\\\nDon\\'t fight the feeling, invite the feeling\\\\nJust put your pinky rings up to the moon\\\\nGirls, what y\\'all trying to do? (Tell me what y\\'all trying to do)\\\\nTwenty four karat magic in the air\\\\nHead to toe so player (hands up!)\\\\nPut your pinky rings up to the moon\\\\nGirls, what y\\'all trying to do? (Do)\\\\nTwenty four karat magic in the air\\\\nHead to toe so player (twenty four karat) uh, look out\\\\n\"\\n  },\\n  \"text\": \"24 K Magic\"\\n}'"
      ]
     },
     "execution_count": 17,
     "metadata": {},
     "output_type": "execute_result"
    }
   ],
   "source": [
    "docs[0].json()"
   ]
  },
  {
   "cell_type": "code",
   "execution_count": 18,
   "id": "50607157",
   "metadata": {},
   "outputs": [
    {
     "data": {
      "text/plain": [
       "'24 K Magic'"
      ]
     },
     "execution_count": 18,
     "metadata": {},
     "output_type": "execute_result"
    }
   ],
   "source": [
    "docs[0].text"
   ]
  },
  {
   "cell_type": "markdown",
   "id": "d17c3bc5",
   "metadata": {},
   "source": [
    "### creating your own executor"
   ]
  },
  {
   "cell_type": "code",
   "execution_count": 20,
   "id": "395d9819",
   "metadata": {},
   "outputs": [],
   "source": [
    "class Clean(Executor):\n",
    "    @requests\n",
    "    def clean(self, docs, parameters, **kwargs):\n",
    "        print(parameters)\n",
    "        return DocumentArray(list(filter(lambda x : len(x.text) > 0, docs)))"
   ]
  },
  {
   "cell_type": "markdown",
   "id": "57078327",
   "metadata": {},
   "source": [
    "### Flow"
   ]
  },
  {
   "cell_type": "code",
   "execution_count": 10,
   "id": "e58b4755",
   "metadata": {},
   "outputs": [],
   "source": [
    "model = \"sentence-transformers/paraphrase-distilroberta-base-v1\"\n",
    "\n",
    "flow = (\n",
    "    Flow()\n",
    "    .add(\n",
    "        name = 'clean_text',\n",
    "        uses = Clean\n",
    "    )\n",
    "    .add(\n",
    "        name=\"error_text_encoder\",\n",
    "        uses=\"jinahub://TransformerTorchEncoder\",\n",
    "        uses_with={\"pretrained_model_name_or_path\": model},\n",
    "    )\n",
    "    .add(\n",
    "        name=\"error_text_indexer\",\n",
    "        uses='jinahub://SimpleIndexer',\n",
    "    )\n",
    ")"
   ]
  },
  {
   "cell_type": "code",
   "execution_count": 11,
   "id": "484be908",
   "metadata": {},
   "outputs": [
    {
     "data": {
      "text/plain": [
       "<jina.types.arrays.document.DocumentArray length=30 at 140628196078832>"
      ]
     },
     "execution_count": 11,
     "metadata": {},
     "output_type": "execute_result"
    }
   ],
   "source": [
    "docs = docs[:30]\n",
    "docs"
   ]
  },
  {
   "cell_type": "code",
   "execution_count": 26,
   "id": "a6e513d9",
   "metadata": {},
   "outputs": [
    {
     "ename": "AttributeError",
     "evalue": "'int' object has no attribute 'text'",
     "output_type": "error",
     "traceback": [
      "\u001b[0;31m---------------------------------------------------------------------------\u001b[0m",
      "\u001b[0;31mAttributeError\u001b[0m                            Traceback (most recent call last)",
      "\u001b[0;32m/tmp/ipykernel_17937/3149486388.py\u001b[0m in \u001b[0;36m<module>\u001b[0;34m\u001b[0m\n\u001b[1;32m      1\u001b[0m \u001b[0;32mfor\u001b[0m \u001b[0mi\u001b[0m \u001b[0;32min\u001b[0m \u001b[0mrange\u001b[0m\u001b[0;34m(\u001b[0m\u001b[0;36m3\u001b[0m\u001b[0;34m)\u001b[0m\u001b[0;34m:\u001b[0m\u001b[0;34m\u001b[0m\u001b[0;34m\u001b[0m\u001b[0m\n\u001b[0;32m----> 2\u001b[0;31m     \u001b[0mprint\u001b[0m\u001b[0;34m(\u001b[0m\u001b[0mi\u001b[0m\u001b[0;34m.\u001b[0m\u001b[0mtext\u001b[0m\u001b[0;34m)\u001b[0m\u001b[0;34m\u001b[0m\u001b[0;34m\u001b[0m\u001b[0m\n\u001b[0m",
      "\u001b[0;31mAttributeError\u001b[0m: 'int' object has no attribute 'text'"
     ]
    }
   ],
   "source": [
    "for i in range(3):\n",
    "    print(i.text)"
   ]
  },
  {
   "cell_type": "markdown",
   "id": "9b532edb",
   "metadata": {},
   "source": [
    "### indexing "
   ]
  },
  {
   "cell_type": "code",
   "execution_count": 27,
   "id": "84f61c5b",
   "metadata": {},
   "outputs": [
    {
     "name": "stderr",
     "output_type": "stream",
     "text": [
      "\u001b[1;33mUserWarning: install \"ipywidgets\" for Jupyter support\u001b[0m \u001b[1;30m(raised from /home/sanjju/miniconda3/envs/jina/lib/python3.8/site-packages/rich/live.py:227)\u001b[0m\n",
      "\u001b[1;33mUserWarning: install \"ipywidgets\" for Jupyter support\u001b[0m \u001b[1;30m(raised from /home/sanjju/miniconda3/envs/jina/lib/python3.8/site-packages/rich/live.py:227)\u001b[0m\n"
     ]
    },
    {
     "data": {
      "text/html": [
       "<pre style=\"white-space:pre;overflow-x:auto;line-height:normal;font-family:Menlo,'DejaVu Sans Mono',consolas,'Courier New',monospace\"></pre>\n"
      ],
      "text/plain": []
     },
     "metadata": {},
     "output_type": "display_data"
    },
    {
     "name": "stdout",
     "output_type": "stream",
     "text": [
      "\u001b[1m\u001b[31merror_text_encoder@20738[C]:can not load the executor from /home/sanjju/.jina/hub-packages/u9pqs8eb/config.yml\u001b[0m\n",
      "\u001b[31merror_text_encoder@20738[E]:ExecutorFailToLoad() during <class 'jina.peapods.runtimes.zmq.zed.ZEDRuntime'> initialization\n",
      " add \"--quiet-error\" to suppress the exception details\u001b[0m\n",
      "Traceback (most recent call last):\n",
      "  File \"/home/sanjju/miniconda3/envs/jina/lib/python3.8/site-packages/jina/importer.py\", line 127, in _path_import\n",
      "    spec.loader.exec_module(module)\n",
      "  File \"<frozen importlib._bootstrap_external>\", line 843, in exec_module\n",
      "  File \"<frozen importlib._bootstrap>\", line 219, in _call_with_frames_removed\n",
      "  File \"/home/sanjju/.jina/hub-packages/u9pqs8eb/transform_encoder.py\", line 7, in <module>\n",
      "    import torch\n",
      "ModuleNotFoundError: No module named 'torch'\n",
      "\n",
      "The above exception was the direct cause of the following exception:\n",
      "\n",
      "Traceback (most recent call last):\n",
      "  File \"/home/sanjju/miniconda3/envs/jina/lib/python3.8/site-packages/jina/peapods/runtimes/request_handlers/data_request_handler.py\", line 73, in _load_executor\n",
      "    self._executor = BaseExecutor.load_config(\n",
      "  File \"/home/sanjju/miniconda3/envs/jina/lib/python3.8/site-packages/jina/jaml/__init__.py\", line 574, in load_config\n",
      "    load_py_modules(\n",
      "  File \"/home/sanjju/miniconda3/envs/jina/lib/python3.8/site-packages/jina/jaml/helper.py\", line 252, in load_py_modules\n",
      "    PathImporter.add_modules(*mod)\n",
      "  File \"/home/sanjju/miniconda3/envs/jina/lib/python3.8/site-packages/jina/importer.py\", line 152, in add_modules\n",
      "    _path_import(p)\n",
      "  File \"/home/sanjju/miniconda3/envs/jina/lib/python3.8/site-packages/jina/importer.py\", line 129, in _path_import\n",
      "    raise ImportError(f'can not import module from {absolute_path}') from ex\n",
      "ImportError: can not import module from /home/sanjju/.jina/hub-packages/u9pqs8eb/transform_encoder.py\n",
      "\n",
      "The above exception was the direct cause of the following exception:\n",
      "\n",
      "Traceback (most recent call last):\n",
      "  File \"/home/sanjju/miniconda3/envs/jina/lib/python3.8/site-packages/jina/peapods/peas/__init__.py\", line 79, in run\n",
      "    runtime = runtime_cls(\n",
      "  File \"/home/sanjju/miniconda3/envs/jina/lib/python3.8/site-packages/jina/peapods/runtimes/zmq/zed.py\", line 52, in __init__\n",
      "    self._data_request_handler = DataRequestHandler(self.args, self.logger)\n",
      "  File \"/home/sanjju/miniconda3/envs/jina/lib/python3.8/site-packages/jina/peapods/runtimes/request_handlers/data_request_handler.py\", line 68, in __init__\n",
      "    self._load_executor()\n",
      "  File \"/home/sanjju/miniconda3/envs/jina/lib/python3.8/site-packages/jina/peapods/runtimes/request_handlers/data_request_handler.py\", line 91, in _load_executor\n",
      "    raise ExecutorFailToLoad from ex\n",
      "jina.excepts.ExecutorFailToLoad\n"
     ]
    },
    {
     "data": {
      "text/html": [
       "<pre style=\"white-space:pre;overflow-x:auto;line-height:normal;font-family:Menlo,'DejaVu Sans Mono',consolas,'Courier New',monospace\"></pre>\n"
      ],
      "text/plain": []
     },
     "metadata": {},
     "output_type": "display_data"
    },
    {
     "name": "stdout",
     "output_type": "stream",
     "text": [
      "\u001b[31m           Flow@17937[E]:Flow is aborted due to ['error_text_encoder'] can not be started.\u001b[0m \n"
     ]
    },
    {
     "ename": "RuntimeFailToStart",
     "evalue": "",
     "output_type": "error",
     "traceback": [
      "\u001b[0;31m---------------------------------------------------------------------------\u001b[0m",
      "\u001b[0;31mRuntimeFailToStart\u001b[0m                        Traceback (most recent call last)",
      "\u001b[0;32m/tmp/ipykernel_17937/3060595674.py\u001b[0m in \u001b[0;36m<module>\u001b[0;34m\u001b[0m\n\u001b[1;32m      1\u001b[0m \u001b[0mget_ipython\u001b[0m\u001b[0;34m(\u001b[0m\u001b[0;34m)\u001b[0m\u001b[0;34m.\u001b[0m\u001b[0msystem\u001b[0m\u001b[0;34m(\u001b[0m\u001b[0;34m'rm -rf workspace'\u001b[0m\u001b[0;34m)\u001b[0m\u001b[0;34m\u001b[0m\u001b[0;34m\u001b[0m\u001b[0m\n\u001b[1;32m      2\u001b[0m \u001b[0;34m\u001b[0m\u001b[0m\n\u001b[0;32m----> 3\u001b[0;31m \u001b[0;32mwith\u001b[0m \u001b[0mflow\u001b[0m\u001b[0;34m:\u001b[0m\u001b[0;34m\u001b[0m\u001b[0;34m\u001b[0m\u001b[0m\n\u001b[0m\u001b[1;32m      4\u001b[0m     flow.index(\n\u001b[1;32m      5\u001b[0m       \u001b[0minputs\u001b[0m\u001b[0;34m=\u001b[0m\u001b[0mdocs\u001b[0m\u001b[0;34m,\u001b[0m\u001b[0;34m\u001b[0m\u001b[0;34m\u001b[0m\u001b[0m\n",
      "\u001b[0;32m~/miniconda3/envs/jina/lib/python3.8/site-packages/jina/flow/base.py\u001b[0m in \u001b[0;36m__enter__\u001b[0;34m(self)\u001b[0m\n\u001b[1;32m   1024\u001b[0m     \u001b[0;32mdef\u001b[0m \u001b[0m__enter__\u001b[0m\u001b[0;34m(\u001b[0m\u001b[0mself\u001b[0m\u001b[0;34m)\u001b[0m\u001b[0;34m:\u001b[0m\u001b[0;34m\u001b[0m\u001b[0;34m\u001b[0m\u001b[0m\n\u001b[1;32m   1025\u001b[0m         \u001b[0;32mwith\u001b[0m \u001b[0mCatchAllCleanupContextManager\u001b[0m\u001b[0;34m(\u001b[0m\u001b[0mself\u001b[0m\u001b[0;34m)\u001b[0m\u001b[0;34m:\u001b[0m\u001b[0;34m\u001b[0m\u001b[0;34m\u001b[0m\u001b[0m\n\u001b[0;32m-> 1026\u001b[0;31m             \u001b[0;32mreturn\u001b[0m \u001b[0mself\u001b[0m\u001b[0;34m.\u001b[0m\u001b[0mstart\u001b[0m\u001b[0;34m(\u001b[0m\u001b[0;34m)\u001b[0m\u001b[0;34m\u001b[0m\u001b[0;34m\u001b[0m\u001b[0m\n\u001b[0m\u001b[1;32m   1027\u001b[0m \u001b[0;34m\u001b[0m\u001b[0m\n\u001b[1;32m   1028\u001b[0m     \u001b[0;32mdef\u001b[0m \u001b[0m__exit__\u001b[0m\u001b[0;34m(\u001b[0m\u001b[0mself\u001b[0m\u001b[0;34m,\u001b[0m \u001b[0mexc_type\u001b[0m\u001b[0;34m,\u001b[0m \u001b[0mexc_val\u001b[0m\u001b[0;34m,\u001b[0m \u001b[0mexc_tb\u001b[0m\u001b[0;34m)\u001b[0m\u001b[0;34m:\u001b[0m\u001b[0;34m\u001b[0m\u001b[0;34m\u001b[0m\u001b[0m\n",
      "\u001b[0;32m~/miniconda3/envs/jina/lib/python3.8/site-packages/jina/flow/base.py\u001b[0m in \u001b[0;36mstart\u001b[0;34m(self)\u001b[0m\n\u001b[1;32m   1065\u001b[0m                 \u001b[0mself\u001b[0m\u001b[0;34m.\u001b[0m\u001b[0menter_context\u001b[0m\u001b[0;34m(\u001b[0m\u001b[0mv\u001b[0m\u001b[0;34m)\u001b[0m\u001b[0;34m\u001b[0m\u001b[0;34m\u001b[0m\u001b[0m\n\u001b[1;32m   1066\u001b[0m \u001b[0;34m\u001b[0m\u001b[0m\n\u001b[0;32m-> 1067\u001b[0;31m         \u001b[0mself\u001b[0m\u001b[0;34m.\u001b[0m\u001b[0m_wait_until_all_ready\u001b[0m\u001b[0;34m(\u001b[0m\u001b[0;34m)\u001b[0m\u001b[0;34m\u001b[0m\u001b[0;34m\u001b[0m\u001b[0m\n\u001b[0m\u001b[1;32m   1068\u001b[0m \u001b[0;34m\u001b[0m\u001b[0m\n\u001b[1;32m   1069\u001b[0m         \u001b[0mself\u001b[0m\u001b[0;34m.\u001b[0m\u001b[0m_build_level\u001b[0m \u001b[0;34m=\u001b[0m \u001b[0mFlowBuildLevel\u001b[0m\u001b[0;34m.\u001b[0m\u001b[0mRUNNING\u001b[0m\u001b[0;34m\u001b[0m\u001b[0;34m\u001b[0m\u001b[0m\n",
      "\u001b[0;32m~/miniconda3/envs/jina/lib/python3.8/site-packages/jina/flow/base.py\u001b[0m in \u001b[0;36m_wait_until_all_ready\u001b[0;34m(self)\u001b[0m\n\u001b[1;32m   1146\u001b[0m             )\n\u001b[1;32m   1147\u001b[0m             \u001b[0mself\u001b[0m\u001b[0;34m.\u001b[0m\u001b[0mclose\u001b[0m\u001b[0;34m(\u001b[0m\u001b[0;34m)\u001b[0m\u001b[0;34m\u001b[0m\u001b[0;34m\u001b[0m\u001b[0m\n\u001b[0;32m-> 1148\u001b[0;31m             \u001b[0;32mraise\u001b[0m \u001b[0mRuntimeFailToStart\u001b[0m\u001b[0;34m\u001b[0m\u001b[0;34m\u001b[0m\u001b[0m\n\u001b[0m\u001b[1;32m   1149\u001b[0m         \u001b[0;32melse\u001b[0m\u001b[0;34m:\u001b[0m\u001b[0;34m\u001b[0m\u001b[0;34m\u001b[0m\u001b[0m\n\u001b[1;32m   1150\u001b[0m \u001b[0;34m\u001b[0m\u001b[0m\n",
      "\u001b[0;31mRuntimeFailToStart\u001b[0m: "
     ]
    }
   ],
   "source": [
    "!rm -rf workspace\n",
    "\n",
    "with flow:\n",
    "    flow.index(\n",
    "      inputs=docs,\n",
    "        docs = docs,\n",
    "        parameters = {'name' : 'somethign', 'xyz' : 'fsdfsdfsa'}\n",
    "  )"
   ]
  },
  {
   "cell_type": "markdown",
   "id": "161f182c",
   "metadata": {},
   "source": [
    "### querying "
   ]
  },
  {
   "cell_type": "code",
   "execution_count": 28,
   "id": "03284909",
   "metadata": {},
   "outputs": [
    {
     "name": "stdin",
     "output_type": "stream",
     "text": [
      "Query product :  24 K Magic \n"
     ]
    },
    {
     "name": "stdout",
     "output_type": "stream",
     "text": [
      "\u001b[1m\u001b[31merror_text_encoder@20988[C]:can not load the executor from /home/sanjju/.jina/hub-packages/u9pqs8eb/config.yml\u001b[0m\n",
      "\u001b[31merror_text_encoder@20988[E]:ExecutorFailToLoad() during <class 'jina.peapods.runtimes.zmq.zed.ZEDRuntime'> initialization\n",
      " add \"--quiet-error\" to suppress the exception details\u001b[0m\n",
      "Traceback (most recent call last):\n",
      "  File \"/home/sanjju/miniconda3/envs/jina/lib/python3.8/site-packages/jina/importer.py\", line 127, in _path_import\n",
      "    spec.loader.exec_module(module)\n",
      "  File \"<frozen importlib._bootstrap_external>\", line 843, in exec_module\n",
      "  File \"<frozen importlib._bootstrap>\", line 219, in _call_with_frames_removed\n",
      "  File \"/home/sanjju/.jina/hub-packages/u9pqs8eb/transform_encoder.py\", line 7, in <module>\n",
      "    import torch\n",
      "ModuleNotFoundError: No module named 'torch'\n",
      "\n",
      "The above exception was the direct cause of the following exception:\n",
      "\n",
      "Traceback (most recent call last):\n",
      "  File \"/home/sanjju/miniconda3/envs/jina/lib/python3.8/site-packages/jina/peapods/runtimes/request_handlers/data_request_handler.py\", line 73, in _load_executor\n",
      "    self._executor = BaseExecutor.load_config(\n",
      "  File \"/home/sanjju/miniconda3/envs/jina/lib/python3.8/site-packages/jina/jaml/__init__.py\", line 574, in load_config\n",
      "    load_py_modules(\n",
      "  File \"/home/sanjju/miniconda3/envs/jina/lib/python3.8/site-packages/jina/jaml/helper.py\", line 252, in load_py_modules\n",
      "    PathImporter.add_modules(*mod)\n",
      "  File \"/home/sanjju/miniconda3/envs/jina/lib/python3.8/site-packages/jina/importer.py\", line 152, in add_modules\n",
      "    _path_import(p)\n",
      "  File \"/home/sanjju/miniconda3/envs/jina/lib/python3.8/site-packages/jina/importer.py\", line 129, in _path_import\n",
      "    raise ImportError(f'can not import module from {absolute_path}') from ex\n",
      "ImportError: can not import module from /home/sanjju/.jina/hub-packages/u9pqs8eb/transform_encoder.py\n",
      "\n",
      "The above exception was the direct cause of the following exception:\n",
      "\n",
      "Traceback (most recent call last):\n",
      "  File \"/home/sanjju/miniconda3/envs/jina/lib/python3.8/site-packages/jina/peapods/peas/__init__.py\", line 79, in run\n",
      "    runtime = runtime_cls(\n",
      "  File \"/home/sanjju/miniconda3/envs/jina/lib/python3.8/site-packages/jina/peapods/runtimes/zmq/zed.py\", line 52, in __init__\n",
      "    self._data_request_handler = DataRequestHandler(self.args, self.logger)\n",
      "  File \"/home/sanjju/miniconda3/envs/jina/lib/python3.8/site-packages/jina/peapods/runtimes/request_handlers/data_request_handler.py\", line 68, in __init__\n",
      "    self._load_executor()\n",
      "  File \"/home/sanjju/miniconda3/envs/jina/lib/python3.8/site-packages/jina/peapods/runtimes/request_handlers/data_request_handler.py\", line 91, in _load_executor\n",
      "    raise ExecutorFailToLoad from ex\n",
      "jina.excepts.ExecutorFailToLoad\n",
      "\u001b[31m           Flow@17937[E]:Flow is aborted due to ['error_text_encoder'] can not be started.\u001b[0m \n"
     ]
    },
    {
     "ename": "RuntimeFailToStart",
     "evalue": "",
     "output_type": "error",
     "traceback": [
      "\u001b[0;31m---------------------------------------------------------------------------\u001b[0m",
      "\u001b[0;31mRuntimeFailToStart\u001b[0m                        Traceback (most recent call last)",
      "\u001b[0;32m/tmp/ipykernel_17937/2053537757.py\u001b[0m in \u001b[0;36m<module>\u001b[0;34m\u001b[0m\n\u001b[1;32m      1\u001b[0m \u001b[0mquery\u001b[0m \u001b[0;34m=\u001b[0m \u001b[0mDocument\u001b[0m\u001b[0;34m(\u001b[0m\u001b[0mtext\u001b[0m \u001b[0;34m=\u001b[0m \u001b[0minput\u001b[0m\u001b[0;34m(\u001b[0m\u001b[0;34m'Query product : '\u001b[0m\u001b[0;34m)\u001b[0m\u001b[0;34m)\u001b[0m\u001b[0;34m\u001b[0m\u001b[0;34m\u001b[0m\u001b[0m\n\u001b[0;32m----> 2\u001b[0;31m \u001b[0;32mwith\u001b[0m \u001b[0mflow\u001b[0m\u001b[0;34m:\u001b[0m\u001b[0;34m\u001b[0m\u001b[0;34m\u001b[0m\u001b[0m\n\u001b[0m\u001b[1;32m      3\u001b[0m     \u001b[0mresponse\u001b[0m \u001b[0;34m=\u001b[0m \u001b[0mflow\u001b[0m\u001b[0;34m.\u001b[0m\u001b[0msearch\u001b[0m\u001b[0;34m(\u001b[0m\u001b[0minputs\u001b[0m \u001b[0;34m=\u001b[0m \u001b[0mquery\u001b[0m\u001b[0;34m,\u001b[0m \u001b[0mreturn_results\u001b[0m \u001b[0;34m=\u001b[0m \u001b[0;32mTrue\u001b[0m\u001b[0;34m)\u001b[0m\u001b[0;34m\u001b[0m\u001b[0;34m\u001b[0m\u001b[0m\n",
      "\u001b[0;32m~/miniconda3/envs/jina/lib/python3.8/site-packages/jina/flow/base.py\u001b[0m in \u001b[0;36m__enter__\u001b[0;34m(self)\u001b[0m\n\u001b[1;32m   1024\u001b[0m     \u001b[0;32mdef\u001b[0m \u001b[0m__enter__\u001b[0m\u001b[0;34m(\u001b[0m\u001b[0mself\u001b[0m\u001b[0;34m)\u001b[0m\u001b[0;34m:\u001b[0m\u001b[0;34m\u001b[0m\u001b[0;34m\u001b[0m\u001b[0m\n\u001b[1;32m   1025\u001b[0m         \u001b[0;32mwith\u001b[0m \u001b[0mCatchAllCleanupContextManager\u001b[0m\u001b[0;34m(\u001b[0m\u001b[0mself\u001b[0m\u001b[0;34m)\u001b[0m\u001b[0;34m:\u001b[0m\u001b[0;34m\u001b[0m\u001b[0;34m\u001b[0m\u001b[0m\n\u001b[0;32m-> 1026\u001b[0;31m             \u001b[0;32mreturn\u001b[0m \u001b[0mself\u001b[0m\u001b[0;34m.\u001b[0m\u001b[0mstart\u001b[0m\u001b[0;34m(\u001b[0m\u001b[0;34m)\u001b[0m\u001b[0;34m\u001b[0m\u001b[0;34m\u001b[0m\u001b[0m\n\u001b[0m\u001b[1;32m   1027\u001b[0m \u001b[0;34m\u001b[0m\u001b[0m\n\u001b[1;32m   1028\u001b[0m     \u001b[0;32mdef\u001b[0m \u001b[0m__exit__\u001b[0m\u001b[0;34m(\u001b[0m\u001b[0mself\u001b[0m\u001b[0;34m,\u001b[0m \u001b[0mexc_type\u001b[0m\u001b[0;34m,\u001b[0m \u001b[0mexc_val\u001b[0m\u001b[0;34m,\u001b[0m \u001b[0mexc_tb\u001b[0m\u001b[0;34m)\u001b[0m\u001b[0;34m:\u001b[0m\u001b[0;34m\u001b[0m\u001b[0;34m\u001b[0m\u001b[0m\n",
      "\u001b[0;32m~/miniconda3/envs/jina/lib/python3.8/site-packages/jina/flow/base.py\u001b[0m in \u001b[0;36mstart\u001b[0;34m(self)\u001b[0m\n\u001b[1;32m   1065\u001b[0m                 \u001b[0mself\u001b[0m\u001b[0;34m.\u001b[0m\u001b[0menter_context\u001b[0m\u001b[0;34m(\u001b[0m\u001b[0mv\u001b[0m\u001b[0;34m)\u001b[0m\u001b[0;34m\u001b[0m\u001b[0;34m\u001b[0m\u001b[0m\n\u001b[1;32m   1066\u001b[0m \u001b[0;34m\u001b[0m\u001b[0m\n\u001b[0;32m-> 1067\u001b[0;31m         \u001b[0mself\u001b[0m\u001b[0;34m.\u001b[0m\u001b[0m_wait_until_all_ready\u001b[0m\u001b[0;34m(\u001b[0m\u001b[0;34m)\u001b[0m\u001b[0;34m\u001b[0m\u001b[0;34m\u001b[0m\u001b[0m\n\u001b[0m\u001b[1;32m   1068\u001b[0m \u001b[0;34m\u001b[0m\u001b[0m\n\u001b[1;32m   1069\u001b[0m         \u001b[0mself\u001b[0m\u001b[0;34m.\u001b[0m\u001b[0m_build_level\u001b[0m \u001b[0;34m=\u001b[0m \u001b[0mFlowBuildLevel\u001b[0m\u001b[0;34m.\u001b[0m\u001b[0mRUNNING\u001b[0m\u001b[0;34m\u001b[0m\u001b[0;34m\u001b[0m\u001b[0m\n",
      "\u001b[0;32m~/miniconda3/envs/jina/lib/python3.8/site-packages/jina/flow/base.py\u001b[0m in \u001b[0;36m_wait_until_all_ready\u001b[0;34m(self)\u001b[0m\n\u001b[1;32m   1146\u001b[0m             )\n\u001b[1;32m   1147\u001b[0m             \u001b[0mself\u001b[0m\u001b[0;34m.\u001b[0m\u001b[0mclose\u001b[0m\u001b[0;34m(\u001b[0m\u001b[0;34m)\u001b[0m\u001b[0;34m\u001b[0m\u001b[0;34m\u001b[0m\u001b[0m\n\u001b[0;32m-> 1148\u001b[0;31m             \u001b[0;32mraise\u001b[0m \u001b[0mRuntimeFailToStart\u001b[0m\u001b[0;34m\u001b[0m\u001b[0;34m\u001b[0m\u001b[0m\n\u001b[0m\u001b[1;32m   1149\u001b[0m         \u001b[0;32melse\u001b[0m\u001b[0;34m:\u001b[0m\u001b[0;34m\u001b[0m\u001b[0;34m\u001b[0m\u001b[0m\n\u001b[1;32m   1150\u001b[0m \u001b[0;34m\u001b[0m\u001b[0m\n",
      "\u001b[0;31mRuntimeFailToStart\u001b[0m: "
     ]
    }
   ],
   "source": [
    "query = Document(text = input('Query product : '))\n",
    "with flow:\n",
    "    response = flow.search(inputs = query, return_results = True)"
   ]
  },
  {
   "cell_type": "markdown",
   "id": "34a8b4f5",
   "metadata": {},
   "source": [
    "### finding the best match"
   ]
  },
  {
   "cell_type": "code",
   "execution_count": 16,
   "id": "b5a10474",
   "metadata": {},
   "outputs": [
    {
     "data": {
      "text/plain": [
       "<jina.types.arrays.match.MatchArray length=20 at 139829488721536>"
      ]
     },
     "execution_count": 16,
     "metadata": {},
     "output_type": "execute_result"
    }
   ],
   "source": [
    "matches = response[0].docs[0].matches\n",
    "matches"
   ]
  },
  {
   "cell_type": "code",
   "execution_count": 19,
   "id": "b2ca65af",
   "metadata": {},
   "outputs": [
    {
     "name": "stdout",
     "output_type": "stream",
     "text": [
      "\n",
      "              product name : Scenic Nature Stationery - Pack of 48              \n",
      "\n",
      "Professionally printed Scenic Stationery. 4 unique scenes from nature, 12 of each for a total of 48. Measure 8.5 x 11 inches. Works through all printers and copiers. Images are ghosted to be printed on. Also can be handwritten. Perfect for personalized letters, projects, and poetry. Professionally printed in USA on premium 70 lb. bright white smooth text stock.\n",
      "\n",
      "--------------------------------------------------------------------------------\n",
      "\n",
      " product name : Canson 100510926 XL Mix Media Paper Pad, 98 Pound, 7 x 10 Inch, 60 Sheets \n",
      "\n",
      "Canson XL Mix Media Pads were developed as the answer to the demand for a heavyweight, fine texture paper with heavy sizing for wet and dry media. This paper can be used for: sketching, drawing, light washes of ink and watercolor, collage, journaling, and more. It has quickly become the most popular paper in the Canson paper family. Mix Media paper erases well and blends easily. The wire bound pads have micro perforated, true size sheets. These pads were developed in consultation with art professors and combine performance with value for the art student. These pads contain 60 sheets of 98 pound/160 gram paper, acid free, 7 x 10 inch paper.\n",
      "\n",
      "--------------------------------------------------------------------------------\n",
      "\n",
      " product name : hp Printer Paper | 8.5 x 11 Paper | Office 20 lb | 1 Ream - 500 Sheets | 92 Bright | Made in USA - FSC Certified | 172160R \n",
      "\n",
      "HP Papers is a premium line of uncoated printing paper optimized to provide superior print paper performance when used with HP hardware and supplies and in all other makes and models of printing and copying equipment. Launched in 1996, HP Papers are manufactured and marketed exclusively worldwide in over 75 countries by International Paper, a globally recognized leader in paper products, under license from the Hewlett-Packard Company. With a diverse range of products designed to support a wide range of print applications, from everyday copies to full-color presentations, you can be assured of consistent, high-quality print performance every time. HP Office20 Paper is a 20 lb., super smooth, economical and multipurpose paper for everyday printing at home, at school and in the office. HP Office20 was created specifically for high-volume black and white printing and copying. Engineered with ColorLok Technology HP Office20 paper provides brighter colors and bolder blacks for great-looking reports and impressive business documents. HP Office20 printer paper is available in 8.5 x 11 letter size paper, 8.5 x 11.3 hole punched letter size paper, and 8. 5 x 14 legal size paper.Acid free paper – HP Office 20lb print and copy paper prevents yellowing over time to ensure a long-lasting appearance for added archival quality.\n",
      "\n",
      "--------------------------------------------------------------------------------\n",
      "\n",
      " product name : Marble Stationery Paper, Printer Friendly Decorative Letterhead (8.5x11 In, 48 Sheets) \n",
      "\n",
      "When you want to write or print something and give it a special touch, reach for these marble pattern stationary papers. At 100gsm, it's easy to manipulate and feels just like standard household printer paper. Use it like writing paper or printer paper, it's your choice.\n",
      "\n",
      "--------------------------------------------------------------------------------\n",
      "\n",
      " product name : Tropical Beach Scene Stationery - 8.5 x 11-60 Tropical Letterhead Sheets - Tropcial Theme Letterhead \n",
      "\n",
      "Fun tropcial stationery to use for letters, invitations or any creative idea that comes to mind. Make your letters stand out with this fun letterhead paper. .\n",
      "\n",
      "--------------------------------------------------------------------------------\n",
      "\n",
      " product name : Rustic Stationery - 8.5 x 11-60 Letterhead Sheets - Flowers and Barnwood Letterhead (Purple Flowers) \n",
      "\n",
      "Rustic wood and floral stationery to use for letters, invitations or any creative idea that comes to mind. Make your letters stand out with this fun letterhead paper. .\n",
      "\n",
      "--------------------------------------------------------------------------------\n",
      "\n",
      " product name : Halloween Stationery - 8.5 x 11-60 Letterhead Sheets - Halloween Printer Paper \n",
      "\n",
      "Fun Halloween stationery to use for letters, invitations or any creative idea that comes to mind. Make your letters stand out with this fun letterhead paper. Stationery measures 8.5 x 11 inches each and have 60 sheets per pack\n",
      "\n",
      "--------------------------------------------------------------------------------\n",
      "\n",
      "            product name : Wysong Uretic - Dry Natural Food for Cats            \n",
      "\n",
      "Uretic has achieved extraordinary results in tens of thousands through multiple generations for over thirty years. It was created by Dr. Wysong and owes its popularity solely to veterinary recommendation and word of mouth. By targeting wellness, immune and urinary systems, Uretic has proven itself as a diet that creates robust vitality. This improved formulation is designed to take advantage of new processing methods to preserve natural value, and nutritional advances related to epigenetics and nutrigenomics. Uretic now contains higher levels of fresh/frozen and dried meats and organs, protein, and fat, and a comprehensive spectrum and higher levels of micronutrients/nutraceuticals including prebiotics, probiotics, enzymes, omega-3s, antioxidants and more. Excess minerals are eliminated, natural sourced, urinary-important methionine are added, and small quantities of fruits and vegetables mimic what may be consumed in the viscera of prey, and contribute important vitamins, minerals, antioxidants and other nutrients.\n",
      "\n",
      "--------------------------------------------------------------------------------\n",
      "\n",
      " product name : Flexible Grabber Claw Pick Up Reacher Tool With 4 Claws Bendable Hose Pickup Reaching Assist Tool for Litter Pick, Home Sink, Drains, Toilet (35.4inch) \n",
      "\n",
      "Details 1.Get The Easy Grabber, Retriever and Pick-up Tool. 2.Long Available: 90cm Grabber Reacher Tool .  Use For 1.Great grabber tool to clean drain. It works like a plumbing snake but with a difference, to grab the hairs to easily clear the clog.  2.Flexible pick up tool snag & pull out hair, food, garbage, or other obstacles that cause a clogged drain.  3.The Grabber also helps with easily lifting the nails, screws, bolts & nuts that fall on the ground & not easily accessible.\n",
      "\n",
      "--------------------------------------------------------------------------------\n",
      "\n",
      " product name : OFNMY Vintage Paper and Envelopes, Double-side Writing Stationery Paper Letter Set - 60 Sheets of Old Fashion Aged Classic Vintage Letter Papers & 60 Envelopes for Writing,Printing,Crafting \n",
      "\n",
      "60 Sets of Vintage Stationary Paper and Envelopes Set  ★ Product Specification: - Envelope Material: Daolin Paper - Envelope Size: 8.6”x 4.3” (22cm x11cm) - Writing Paper Size: 11”x8.2” (28.5cm x 21cm) ★ Most Popular Using: - Perfect for mailing maps, certificates, invitations, poetry scrolls, poems, lyrics, treasure hunts, menus, letters to Santa, and much more - Great for mailing private or business-related documents, catalogs, direct mail, promotional material, brochures, letters and more - Multi Purpose: Ideal for old-fashioned style weddings, anniversaries or graduation letters, thank you notes, announcements and more - Others ★ Package Include: 60 x Vintage letter papers 60 x Envelopes\n",
      "\n",
      "--------------------------------------------------------------------------------\n",
      "\n",
      " product name : IMagicoo 48 Cute Lovely Writing Stationery Paper Letter Set with 24 Envelope/Envelope Seal Sticker (8) \n",
      "\n",
      "Package include: 1x 48 pcs Writting Paper + 24 Envelope + 24 Envelope Seal Sticker Set\n",
      "\n",
      "--------------------------------------------------------------------------------\n",
      "\n",
      " product name : Stationery Paper and Envelopes Set of 48 Rose Watercolor Letter Writing Paper, Decorative Printer Stationery Sheets with Assorted Designs - Double-sided Printing - 8.5 x 11 Inch \n",
      "\n",
      "Package include: 48 sheets rose watercolor stationery paper & 24 self-sticking envelopes\n",
      "\n",
      "--------------------------------------------------------------------------------\n",
      "\n",
      "  product name : Blank White 7\" x 10\" Paper - Executive Size - 250 Sheet Pack   \n",
      "\n",
      "Desktop Publishing Supplies, Inc. brand 7\" x 10\" Executive size paper is great for writing business and personal letters. This unique size is also great for making DIY Memo Note Pads, Sketchbooks, or Planners. This letterhead paper is made from a bright 28lb bond paper stock and measures 7\" x 10\". Compatible with inkjet & laser printers.\n",
      "\n",
      "--------------------------------------------------------------------------------\n",
      "\n",
      " product name : Rustic Barnwood Stationery - 8.5 x 11 - 60 Letterhead Sheets - Rustic Letterhead \n",
      "\n",
      "Rusticstationery to use for letters, invitations or any creative idea that comes to mind. Make your letters stand out with this fun letterhead paper. Stationery measures 8.5 x 11 inches each and have 60 sheets per pack\n",
      "\n",
      "--------------------------------------------------------------------------------\n",
      "\n",
      " product name : DLOnline 80 Pcs Writing Stationery Paper and Envelopes,Letter Set,8 Styles of Ink Painting Classic Vintage Antique(64 Letter Paper + 16 Envelopes) \n",
      "\n",
      " , 64 x Chinese style writing paper , 16 x Matching ink painting design envelopes ,  ,  , Fancy paper:10.2 x 7.3 in/26 X 18.5cm; , Envelopes:8.46 x 4.33in/21.5X 11cm ,  ,  , As shown in the picture. ,  ,  , These beautiful letter paper and envelopes are Versatile! , They are not only used to write a letter,but also send business invitations,party invitations,bless message, thank-you note,etc. , They also can be used for calligraphy and graffiti in your daily life. ,  ,  , We're not sure whether these envelopes can be used to send mail. Please consult your post office. ,  , Stationery is ink jet printable. But please note that the size is smaller than A4 paper, so the page size needs to be adjusted before printing anything. Please double check the sizes before purchasing.\n",
      "\n",
      "--------------------------------------------------------------------------------\n",
      "\n",
      " product name : Great Papers! 8.5\" x 11\" Imprintable Stationery, Halloween Who (2014051) \n",
      "\n",
      "This colorful 8.5\" x 11\" holiday paper is perfect for creating your own invitations, announcements and personal messages. Paper is compatible with most inkjet and laser printers.\n",
      "\n",
      "--------------------------------------------------------------------------------\n",
      "\n",
      " product name : Autumn Pumpkin Harvest Stationery Paper - 80 Sheets - Fall Letterhead for Festivals & Thanksgiving \n",
      "\n",
      "Autumn Pumpkin Harvest Stationery Paper works as a great background for your invitations, letters, flyers, and more. This Fall themed paper features pumkins, wheat, and tomatoes over a dark wood background. This Fall letterhead measures 8 1/2\" x 11\"and is made from a heavyweight 28lb bond paper stock (105 gsm). Inkjet & laser printer compatible. , \n",
      "\n",
      "--------------------------------------------------------------------------------\n",
      "\n",
      " product name : Beach Stationery - 8.5 x 11-60 Beach Letterhead Sheets - Umbrella & Chair Ocean Beach View \n",
      "\n",
      "Fun beach stationery to use for letters, invitations or any creative idea that comes to mind. Make your letters stand out with this fun letterhead paper. .\n",
      "\n",
      "--------------------------------------------------------------------------------\n",
      "\n",
      " product name : Bolbove 64 Pcs Lovely Flower Cute Plant Elegant Letter Writing Stationery White Paper Lined Sheets (Peach Blossom) \n",
      "\n",
      "These Writing Sheets are perfect for Letters, Notes, Arts, Crafts, Certificates, Invitations, Poetry Scrolls, Calligraphy, graffiti, etc. , Package included: ,  64 pcs Writing Paper (Total 8 Packs - Each Pack contains 8 Writing Paper) , 1*Silver Metal Bolbove Keychain\n",
      "\n",
      "--------------------------------------------------------------------------------\n",
      "\n",
      " product name : 48PCS DLOnline Writing Stationery Paper, Letter Writing Paper Letter Sets Writing Paper,Stationary Paper,Letter Paper,Letter Paper Vintage,Letter Writing Paper,Paper Products,Letter Paper Stationary \n",
      "\n",
      "Package Included:48 paper , Size:7.28”*10.23” (18.5 cm*26 cm) , There are 6 different patterns in the package, you may have more choices for different application.\n",
      "\n",
      "--------------------------------------------------------------------------------\n"
     ]
    }
   ],
   "source": [
    "for m in matches:\n",
    "    print()\n",
    "    print(f\" product name : {m.text} \".center(80, ' '))\n",
    "    print()\n",
    "    print(m.tags['description'])\n",
    "    print()\n",
    "    print('-' * 80)"
   ]
  },
  {
   "cell_type": "code",
   "execution_count": null,
   "id": "b23d108d",
   "metadata": {},
   "outputs": [],
   "source": []
  }
 ],
 "metadata": {
  "kernelspec": {
   "display_name": "Python 3 (ipykernel)",
   "language": "python",
   "name": "python3"
  },
  "language_info": {
   "codemirror_mode": {
    "name": "ipython",
    "version": 3
   },
   "file_extension": ".py",
   "mimetype": "text/x-python",
   "name": "python",
   "nbconvert_exporter": "python",
   "pygments_lexer": "ipython3",
   "version": "3.8.11"
  }
 },
 "nbformat": 4,
 "nbformat_minor": 5
}
