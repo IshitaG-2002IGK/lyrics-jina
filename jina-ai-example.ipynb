{
 "cells": [
  {
   "cell_type": "code",
   "execution_count": 1,
   "id": "9a721762",
   "metadata": {},
   "outputs": [],
   "source": [
    "from jina import Flow, Executor, requests, Document, DocumentArray\n",
    "import pandas as pd\n",
    "import numpy as np "
   ]
  },
  {
   "cell_type": "markdown",
   "id": "9ed4fa0e",
   "metadata": {},
   "source": [
    "### 3 main fundamental jina concepts \n",
    "\n",
    "* document\n",
    "* executor \n",
    "* flow"
   ]
  },
  {
   "cell_type": "code",
   "execution_count": 2,
   "id": "91cd684c",
   "metadata": {},
   "outputs": [
    {
     "data": {
      "text/html": [
       "<div>\n",
       "<style scoped>\n",
       "    .dataframe tbody tr th:only-of-type {\n",
       "        vertical-align: middle;\n",
       "    }\n",
       "\n",
       "    .dataframe tbody tr th {\n",
       "        vertical-align: top;\n",
       "    }\n",
       "\n",
       "    .dataframe thead th {\n",
       "        text-align: right;\n",
       "    }\n",
       "</style>\n",
       "<table border=\"1\" class=\"dataframe\">\n",
       "  <thead>\n",
       "    <tr style=\"text-align: right;\">\n",
       "      <th></th>\n",
       "      <th>Index</th>\n",
       "      <th>Singer</th>\n",
       "      <th>Song</th>\n",
       "      <th>Lyrics</th>\n",
       "      <th>Collected By</th>\n",
       "    </tr>\n",
       "  </thead>\n",
       "  <tbody>\n",
       "    <tr>\n",
       "      <th>0</th>\n",
       "      <td>1</td>\n",
       "      <td>Bruno Mars</td>\n",
       "      <td>24 K Magic</td>\n",
       "      <td>Tonight\\nI just want to take you higher\\nThrow...</td>\n",
       "      <td>Ishita</td>\n",
       "    </tr>\n",
       "    <tr>\n",
       "      <th>1</th>\n",
       "      <td>2</td>\n",
       "      <td>Taylor Swift</td>\n",
       "      <td>Wildest Dreams</td>\n",
       "      <td>He said, \"Let's get out of this town\\nDrive ou...</td>\n",
       "      <td>Ishita</td>\n",
       "    </tr>\n",
       "    <tr>\n",
       "      <th>2</th>\n",
       "      <td>3</td>\n",
       "      <td>Green Day</td>\n",
       "      <td>Numb</td>\n",
       "      <td>I'm tired of being what you want me to be\\nFee...</td>\n",
       "      <td>Ishita</td>\n",
       "    </tr>\n",
       "    <tr>\n",
       "      <th>3</th>\n",
       "      <td>4</td>\n",
       "      <td>Macklemore</td>\n",
       "      <td>Glorius</td>\n",
       "      <td>You know I'm back like I never left\\nAnother s...</td>\n",
       "      <td>Ishita</td>\n",
       "    </tr>\n",
       "    <tr>\n",
       "      <th>4</th>\n",
       "      <td>5</td>\n",
       "      <td>Ariana Grande</td>\n",
       "      <td>POV</td>\n",
       "      <td>It's like you got superpowers\\nTurn my minutes...</td>\n",
       "      <td>Ishita</td>\n",
       "    </tr>\n",
       "  </tbody>\n",
       "</table>\n",
       "</div>"
      ],
      "text/plain": [
       "   Index         Singer            Song  \\\n",
       "0      1     Bruno Mars      24 K Magic   \n",
       "1      2   Taylor Swift  Wildest Dreams   \n",
       "2      3      Green Day            Numb   \n",
       "3      4     Macklemore         Glorius   \n",
       "4      5  Ariana Grande             POV   \n",
       "\n",
       "                                              Lyrics Collected By  \n",
       "0  Tonight\\nI just want to take you higher\\nThrow...       Ishita  \n",
       "1  He said, \"Let's get out of this town\\nDrive ou...       Ishita  \n",
       "2  I'm tired of being what you want me to be\\nFee...       Ishita  \n",
       "3  You know I'm back like I never left\\nAnother s...       Ishita  \n",
       "4  It's like you got superpowers\\nTurn my minutes...       Ishita  "
      ]
     },
     "execution_count": 2,
     "metadata": {},
     "output_type": "execute_result"
    }
   ],
   "source": [
    "df = pd.read_csv('lyrics-JINA - Sheet1.csv')\n",
    "df.head()"
   ]
  },
  {
   "cell_type": "code",
   "execution_count": 3,
   "id": "210df249",
   "metadata": {},
   "outputs": [
    {
     "data": {
      "text/plain": [
       "(33, 5)"
      ]
     },
     "execution_count": 3,
     "metadata": {},
     "output_type": "execute_result"
    }
   ],
   "source": [
    "df = df.drop_duplicates().dropna()\n",
    "df.shape"
   ]
  },
  {
   "cell_type": "markdown",
   "id": "daefc6c3",
   "metadata": {},
   "source": [
    "### sample songs"
   ]
  },
  {
   "cell_type": "code",
   "execution_count": 4,
   "id": "9ef730f7",
   "metadata": {},
   "outputs": [
    {
     "name": "stdout",
     "output_type": "stream",
     "text": [
      "\n",
      "                             Song name : 24 K Magic                             \n",
      "                            Singer Name : Bruno Mars                            \n",
      "\n",
      "Tonight\n",
      "I just want to take you higher\n",
      "Throw your hands up in the sky\n",
      "Let's set this party off right\n",
      "Players, put yo' pinky rings up to the moon\n",
      "Girls, what y'all trying to do?\n",
      "Twenty four karat magic in the air\n",
      "Head to toe so player\n",
      "Look out uh\n",
      "Pop pop, it's show time (show time)\n",
      "Show time (show time)\n",
      "Guess who's back again?\n",
      "Oh they don't know? (Go on tell 'em)\n",
      "Oh they don't know? (Go on tell 'em)\n",
      "I bet they know soon as we walk in (showin' up)\n",
      "Wearing Cuban links (ya)\n",
      "Designer minks (ya)\n",
      "Inglewood's finest shoes (whoop, whoop)\n",
      "Don't look too hard might hurt ya'self\n",
      "Known to give the color red the blues\n",
      "Oh shit, I'm a dangerous man with some money in my pocket (keep up)\n",
      "So many pretty girls around me and they waking up the rocket (keep up)\n",
      "Why you mad, fix ya face, ain't my fault y'all be jocking (keep up)\n",
      "Players only, come on\n",
      "Put your pinky rings up to the moon\n",
      "Girls, what y'all trying to do?\n",
      "Twenty four karat magic in the air\n",
      "Head to toe so player\n",
      "Uh, look out!\n",
      "Second verse for the hustlas (hustlas) gangstas (gangstas)\n",
      "Bad bitches and ya ugly ass friends (haha)\n",
      "Can I preach? (uh oh) can I preach? (uh oh)\n",
      "I gotta show 'em how a pimp get it in\n",
      "First, take your sip (sip), do your dip (dip)\n",
      "Spend your money like money ain't shit (whoop, whoop)\n",
      "We too fresh\n",
      "Got to blame in on Jesus\n",
      "Hashtag blessed, they ain't ready for me\n",
      "I'm a dangerous man with some money in my pocket (keep up)\n",
      "So many pretty girls around me and they waking up the rocket (keep up)\n",
      "Why you mad, fix ya face, ain't my fault y'all be jocking (keep up)\n",
      "Players only, come on\n",
      "Put your pinky rings up to the moon\n",
      "Hey girls\n",
      "What y'all trying to do? (What y'all trying to do?)\n",
      "Twenty four karat magic in the air\n",
      "Head to toe so player\n",
      "Uh, look out!\n",
      "everywhere I go they be like\n",
      "Ooh, so player\n",
      "Everywhere I go they be like (ooh, so player ooh)\n",
      "Oh everywhere I go they be like (ooh, so player ooh)\n",
      "Now, now, now watch me break it down like (uh)\n",
      "Twenty four karat, twenty four karat magic\n",
      "What's that sound (twenty four karat, twenty four karat magic)\n",
      "Come on now\n",
      "Twenty four karat, twenty four karat magic\n",
      "Don't fight the feeling, invite the feeling\n",
      "Just put your pinky rings up to the moon\n",
      "Girls, what y'all trying to do? (Tell me what y'all trying to do)\n",
      "Twenty four karat magic in the air\n",
      "Head to toe so player (hands up!)\n",
      "Put your pinky rings up to the moon\n",
      "Girls, what y'all trying to do? (Do)\n",
      "Twenty four karat magic in the air\n",
      "Head to toe so player (twenty four karat) uh, look out\n",
      "\n",
      "\n",
      "--------------------------------------------------------------------------------\n",
      "\n",
      "                           Song name : Wildest Dreams                           \n",
      "                           Singer Name : Taylor Swift                           \n",
      "\n",
      "He said, \"Let's get out of this town\n",
      "Drive out of the city, away from the crowds\"\n",
      "I thought heaven can't help me now\n",
      "Nothing lasts forever, but this is gonna take me down\n",
      "He's so tall and handsome as hell\n",
      "He's so bad but he does it so well\n",
      "I can see the end as it begins\n",
      "My one condition is\n",
      "Say you'll remember me standing in a nice dress\n",
      "Staring at the sunset, babe\n",
      "Red lips and rosy cheeks\n",
      "Say you'll see me again\n",
      "Even if it's just in your wildest dreams, ah-ha\n",
      "Wildest dreams, ah-ha\n",
      "I said, \"No one has to know what we do\"\n",
      "His hands are in my hair, his clothes are in my room\n",
      "And his voice is a familiar sound\n",
      "Nothing lasts forever but this is getting good now\n",
      "He's so tall and handsome as hell\n",
      "He's so bad but he does it so well\n",
      "And when we've had our very last kiss\n",
      "My last request it is\n",
      "Say you'll remember me standing in a nice dress\n",
      "Staring at the sunset, babe\n",
      "Red lips and rosy cheeks\n",
      "Say you'll see me again\n",
      "Even if it's just in your wildest dreams, ah-ha\n",
      "Wildest dreams, ah-ha\n",
      "You'll see me in hindsight\n",
      "Tangled up with you all night\n",
      "Burnin' it down\n",
      "Someday when you leave me\n",
      "I bet these memories\n",
      "Follow you around\n",
      "You'll see me in hindsight\n",
      "Tangled up with you all night\n",
      "Burnin' it down\n",
      "Someday when you leave me\n",
      "I bet these memories\n",
      "Follow you around\n",
      "Say you'll remember me standing in a nice dress\n",
      "Staring at the sunset, babe\n",
      "Red lips and rosy cheeks\n",
      "Say you'll see me again\n",
      "Even if it's just pretend\n",
      "Say you'll remember me standing in a nice dress\n",
      "Staring at the sunset, babe\n",
      "Red lips and rosy cheeks\n",
      "Say you'll see me again\n",
      "Even if it's just in your (Just pretend, just pretend)\n",
      "Wildest dreams, ah-ha\n",
      "In your wildest dreams, ah-ha\n",
      "(Even if it's just in your)\n",
      "In your wildest dreams, ah-ha\n",
      "In your wildest dreams, ah-ha\n",
      "\n",
      "--------------------------------------------------------------------------------\n",
      "\n",
      "                                Song name : Numb                                \n",
      "                            Singer Name : Green Day                             \n",
      "\n",
      "I'm tired of being what you want me to be\n",
      "Feeling so faithless, lost under the surface\n",
      "Don't know what you're expecting of me\n",
      "Put under the pressure of walking in your shoes\n",
      "Every step that I take is another mistake to you\n",
      "(Caught in the undertow, just caught in the undertow)\n",
      "I've become so numb\n",
      "I can't feel you there\n",
      "Become so tired\n",
      "So much more aware\n",
      "I'm becoming this\n",
      "All I want to do\n",
      "Is be more like me\n",
      "And be less like you\n",
      "Can't you see that you're smothering me\n",
      "Holding too tightly, afraid to lose control?\n",
      "'Cause everything that you thought I would be\n",
      "Has fallen apart right in front of you\n",
      "Every step that I take is another mistake to you\n",
      "(Caught in the undertow, just caught in the undertow)\n",
      "And every second I waste is more than I can take\n",
      "I've become so numb\n",
      "I can't feel you there\n",
      "Become so tired\n",
      "So much more aware\n",
      "I'm becoming this\n",
      "All I want to do\n",
      "Is be more like me\n",
      "And be less like you\n",
      "And I know\n",
      "I may end up failing too\n",
      "But I know\n",
      "You were just like me with someone disappointed in you\n",
      "I've become so numb\n",
      "I can't feel you there\n",
      "Become so tired\n",
      "So much more aware\n",
      "I'm becoming this\n",
      "All I want to do\n",
      "Is be more like me\n",
      "And be less like you\n",
      "I've become so numb\n",
      "I can't feel you there\n",
      "(I'm tired of being what you want me to be)\n",
      "I've become so numb\n",
      "I can't feel you there\n",
      "(I'm tired of being what you want me to be)\n",
      "\n",
      "--------------------------------------------------------------------------------\n"
     ]
    }
   ],
   "source": [
    "for ind in range(3):\n",
    "    print()\n",
    "    print(f\" Song name : {df.iloc[ind, 2]} \".center(80, ' '))\n",
    "    print(f\" Singer Name : {df.iloc[ind, 1]} \".center(80, ' '))\n",
    "    # print(f\" Singer name : {df.iloc[ind, 0]} \".center(80, ' '))\n",
    "    print()\n",
    "    print(df.iloc[ind, 3])\n",
    "    print()\n",
    "    print('-' * 80)"
   ]
  },
  {
   "cell_type": "markdown",
   "id": "357839fb",
   "metadata": {},
   "source": [
    "### creating a document and documentArray"
   ]
  },
  {
   "cell_type": "code",
   "execution_count": 5,
   "id": "75e74248",
   "metadata": {},
   "outputs": [],
   "source": [
    "# basic document \n",
    "\n",
    "# Document(text = 'something')  # use it for strings \n",
    "# Document(content = 'something') # use it when you dont know what type of jina data type it is \n",
    "# Document(blob = 'img, vid, audio') # use it for images, audios and videos\n",
    "# Document(uri = 'local file path or url link') # can be any form a local or remote link"
   ]
  },
  {
   "cell_type": "code",
   "execution_count": 6,
   "id": "abb57ce8",
   "metadata": {},
   "outputs": [
    {
     "data": {
      "text/plain": [
       "<jina.types.arrays.document.DocumentArray (length=33) at 139727250103024>"
      ]
     },
     "execution_count": 6,
     "metadata": {},
     "output_type": "execute_result"
    }
   ],
   "source": [
    "docs = DocumentArray()\n",
    "for ind in range(df.shape[0]):\n",
    "    song_name = df.iloc[ind, 2]\n",
    "    lyr = df.iloc[ind, 3]\n",
    "    doc = Document(text = lyr)\n",
    "    doc.tags['song_name'] = song_name\n",
    "    docs.append(doc)\n",
    "    \n",
    "docs"
   ]
  },
  {
   "cell_type": "code",
   "execution_count": 7,
   "id": "54b0b47b",
   "metadata": {},
   "outputs": [
    {
     "data": {
      "text/plain": [
       "'{\\n  \"id\": \"5062c091-3e63-11ec-ac72-f469d5c3a4bd\",\\n  \"mime_type\": \"text/plain\",\\n  \"tags\": {\\n    \"song_name\": \"24 K Magic\"\\n  },\\n  \"text\": \"Tonight\\\\nI just want to take you higher\\\\nThrow your hands up in the sky\\\\nLet\\'s set this party off right\\\\nPlayers, put yo\\' pinky rings up to the moon\\\\nGirls, what y\\'all trying to do?\\\\nTwenty four karat magic in the air\\\\nHead to toe so player\\\\nLook out uh\\\\nPop pop, it\\'s show time (show time)\\\\nShow time (show time)\\\\nGuess who\\'s back again?\\\\nOh they don\\'t know? (Go on tell \\'em)\\\\nOh they don\\'t know? (Go on tell \\'em)\\\\nI bet they know soon as we walk in (showin\\' up)\\\\nWearing Cuban links (ya)\\\\nDesigner minks (ya)\\\\nInglewood\\'s finest shoes (whoop, whoop)\\\\nDon\\'t look too hard might hurt ya\\'self\\\\nKnown to give the color red the blues\\\\nOh shit, I\\'m a dangerous man with some money in my pocket (keep up)\\\\nSo many pretty girls around me and they waking up the rocket (keep up)\\\\nWhy you mad, fix ya face, ain\\'t my fault y\\'all be jocking (keep up)\\\\nPlayers only, come on\\\\nPut your pinky rings up to the moon\\\\nGirls, what y\\'all trying to do?\\\\nTwenty four karat magic in the air\\\\nHead to toe so player\\\\nUh, look out!\\\\nSecond verse for the hustlas (hustlas) gangstas (gangstas)\\\\nBad bitches and ya ugly ass friends (haha)\\\\nCan I preach? (uh oh) can I preach? (uh oh)\\\\nI gotta show \\'em how a pimp get it in\\\\nFirst, take your sip (sip), do your dip (dip)\\\\nSpend your money like money ain\\'t shit (whoop, whoop)\\\\nWe too fresh\\\\nGot to blame in on Jesus\\\\nHashtag blessed, they ain\\'t ready for me\\\\nI\\'m a dangerous man with some money in my pocket (keep up)\\\\nSo many pretty girls around me and they waking up the rocket (keep up)\\\\nWhy you mad, fix ya face, ain\\'t my fault y\\'all be jocking (keep up)\\\\nPlayers only, come on\\\\nPut your pinky rings up to the moon\\\\nHey girls\\\\nWhat y\\'all trying to do? (What y\\'all trying to do?)\\\\nTwenty four karat magic in the air\\\\nHead to toe so player\\\\nUh, look out!\\\\neverywhere I go they be like\\\\nOoh, so player\\\\nEverywhere I go they be like (ooh, so player ooh)\\\\nOh everywhere I go they be like (ooh, so player ooh)\\\\nNow, now, now watch me break it down like (uh)\\\\nTwenty four karat, twenty four karat magic\\\\nWhat\\'s that sound (twenty four karat, twenty four karat magic)\\\\nCome on now\\\\nTwenty four karat, twenty four karat magic\\\\nDon\\'t fight the feeling, invite the feeling\\\\nJust put your pinky rings up to the moon\\\\nGirls, what y\\'all trying to do? (Tell me what y\\'all trying to do)\\\\nTwenty four karat magic in the air\\\\nHead to toe so player (hands up!)\\\\nPut your pinky rings up to the moon\\\\nGirls, what y\\'all trying to do? (Do)\\\\nTwenty four karat magic in the air\\\\nHead to toe so player (twenty four karat) uh, look out\\\\n\"\\n}'"
      ]
     },
     "execution_count": 7,
     "metadata": {},
     "output_type": "execute_result"
    }
   ],
   "source": [
    "docs[0].json()"
   ]
  },
  {
   "cell_type": "code",
   "execution_count": 8,
   "id": "50607157",
   "metadata": {},
   "outputs": [
    {
     "data": {
      "text/plain": [
       "\"Tonight\\nI just want to take you higher\\nThrow your hands up in the sky\\nLet's set this party off right\\nPlayers, put yo' pinky rings up to the moon\\nGirls, what y'all trying to do?\\nTwenty four karat magic in the air\\nHead to toe so player\\nLook out uh\\nPop pop, it's show time (show time)\\nShow time (show time)\\nGuess who's back again?\\nOh they don't know? (Go on tell 'em)\\nOh they don't know? (Go on tell 'em)\\nI bet they know soon as we walk in (showin' up)\\nWearing Cuban links (ya)\\nDesigner minks (ya)\\nInglewood's finest shoes (whoop, whoop)\\nDon't look too hard might hurt ya'self\\nKnown to give the color red the blues\\nOh shit, I'm a dangerous man with some money in my pocket (keep up)\\nSo many pretty girls around me and they waking up the rocket (keep up)\\nWhy you mad, fix ya face, ain't my fault y'all be jocking (keep up)\\nPlayers only, come on\\nPut your pinky rings up to the moon\\nGirls, what y'all trying to do?\\nTwenty four karat magic in the air\\nHead to toe so player\\nUh, look out!\\nSecond verse for the hustlas (hustlas) gangstas (gangstas)\\nBad bitches and ya ugly ass friends (haha)\\nCan I preach? (uh oh) can I preach? (uh oh)\\nI gotta show 'em how a pimp get it in\\nFirst, take your sip (sip), do your dip (dip)\\nSpend your money like money ain't shit (whoop, whoop)\\nWe too fresh\\nGot to blame in on Jesus\\nHashtag blessed, they ain't ready for me\\nI'm a dangerous man with some money in my pocket (keep up)\\nSo many pretty girls around me and they waking up the rocket (keep up)\\nWhy you mad, fix ya face, ain't my fault y'all be jocking (keep up)\\nPlayers only, come on\\nPut your pinky rings up to the moon\\nHey girls\\nWhat y'all trying to do? (What y'all trying to do?)\\nTwenty four karat magic in the air\\nHead to toe so player\\nUh, look out!\\neverywhere I go they be like\\nOoh, so player\\nEverywhere I go they be like (ooh, so player ooh)\\nOh everywhere I go they be like (ooh, so player ooh)\\nNow, now, now watch me break it down like (uh)\\nTwenty four karat, twenty four karat magic\\nWhat's that sound (twenty four karat, twenty four karat magic)\\nCome on now\\nTwenty four karat, twenty four karat magic\\nDon't fight the feeling, invite the feeling\\nJust put your pinky rings up to the moon\\nGirls, what y'all trying to do? (Tell me what y'all trying to do)\\nTwenty four karat magic in the air\\nHead to toe so player (hands up!)\\nPut your pinky rings up to the moon\\nGirls, what y'all trying to do? (Do)\\nTwenty four karat magic in the air\\nHead to toe so player (twenty four karat) uh, look out\\n\""
      ]
     },
     "execution_count": 8,
     "metadata": {},
     "output_type": "execute_result"
    }
   ],
   "source": [
    "docs[0].text"
   ]
  },
  {
   "cell_type": "code",
   "execution_count": 9,
   "id": "6913a485-1d96-41d1-8df9-ec7c3a92b648",
   "metadata": {},
   "outputs": [
    {
     "data": {
      "text/html": [
       "<img src=\"https://mermaid.ink/svg/JSV7aW5pdDogeyd0aGVtZSc6ICdiYXNlJywgJ3RoZW1lVmFyaWFibGVzJzogeyAncHJpbWFyeUNvbG9yJzogJyNGRkM2NjYnfX19JSUKICAgICAgICAgICAgICAgICAgICAgICAgICAgICAgICAgICAgICAgICAgICBjbGFzc0RpYWdyYW0KICAgIAogICAgICAgICAgICAgICAgICAgICAgICAgICAgICAgICAgICAgICAgICAgICAgICAgICAgY2xhc3MgNzJmfkRvY3VtZW50fnsKK2lkIDUwNjJjMDkxLTMKK21pbWVfdHlwZSB0ZXh0L3BsYWluCit0YWdzKDxjbGFzcyAnamluYS50eXBlcy5zdHJ1Y3QuU3RydWN0Vmlldyc+KQordGV4dCBUb25pZ2h0CkkgCn0=\"/>"
      ],
      "text/plain": [
       "<IPython.core.display.Image object>"
      ]
     },
     "metadata": {},
     "output_type": "display_data"
    }
   ],
   "source": [
    "docs[0]"
   ]
  },
  {
   "cell_type": "markdown",
   "id": "d17c3bc5",
   "metadata": {},
   "source": [
    "### creating your own executor"
   ]
  },
  {
   "cell_type": "code",
   "execution_count": 10,
   "id": "395d9819",
   "metadata": {},
   "outputs": [],
   "source": [
    "class Clean(Executor):\n",
    "    @requests\n",
    "    def clean(self, docs, parameters, **kwargs):\n",
    "        print(parameters)\n",
    "        return DocumentArray(list(filter(lambda x : len(x.text) > 0, docs)))"
   ]
  },
  {
   "cell_type": "markdown",
   "id": "57078327",
   "metadata": {},
   "source": [
    "### Flow"
   ]
  },
  {
   "cell_type": "code",
   "execution_count": 11,
   "id": "e58b4755",
   "metadata": {},
   "outputs": [],
   "source": [
    "model = \"sentence-transformers/paraphrase-distilroberta-base-v1\"\n",
    "\n",
    "flow = (\n",
    "    Flow()\n",
    "    .add(\n",
    "        name=\"lyrics_text_encoder\",\n",
    "        uses=\"jinahub://TransformerTorchEncoder\",\n",
    "        uses_with={\"pretrained_model_name_or_path\": model},\n",
    "    )\n",
    "    .add(\n",
    "        name=\"lyrics_text_indexer\",\n",
    "        uses='jinahub://SimpleIndexer',\n",
    "    )\n",
    ")"
   ]
  },
  {
   "cell_type": "code",
   "execution_count": 12,
   "id": "890d6b02-fadc-4ab4-8568-694623819e03",
   "metadata": {},
   "outputs": [
    {
     "data": {
      "text/html": [
       "<img src=\"https://mermaid.ink/svg/ICAgICAgICAgICAgJSV7aW5pdDp7ICAidGhlbWUiOiAiYmFzZSIsICAidGhlbWVWYXJpYWJsZXMiOiB7ICAgICAgInByaW1hcnlDb2xvciI6ICIjZmZmIiwgICAgICAicHJpbWFyeUJvcmRlckNvbG9yIjogIiNmZmYiLCAgICAgICJtYWluQmtnIjogIiMzMkM4Q0QiLCAgICAgICJjbHVzdGVyQmtnIjogIiNFRUVERTc4QyIsICAgICAgInNlY29uZGFyeUJvcmRlckNvbG9yIjogIm5vbmUiLCAgICAgICJ0ZXJ0aWFyeUJvcmRlckNvbG9yIjogIm5vbmUiLCAgICAgICJsaW5lQ29sb3IiOiAiI2E2ZDhkYSIgICAgICB9fX0lJSAgICAgICAgICAgIApmbG93Y2hhcnQgTFI7CnN1YmdyYXBoIGx5cmljc190ZXh0X2VuY29kZXI7Cmx5cmljc190ZXh0X2VuY29kZXIvcGVhLTBbamluYWh1YjovL1RyYW5zZm9ybWVyVG9yY2hFbmNvZGVyXTo6OlBFQTsKZW5kOwpzdWJncmFwaCBseXJpY3NfdGV4dF9pbmRleGVyOwpseXJpY3NfdGV4dF9pbmRleGVyL3BlYS0wW2ppbmFodWI6Ly9TaW1wbGVJbmRleGVyXTo6OlBFQTsKZW5kOwpnYXRld2F5c3RhcnRbZ2F0ZXdheV06OjpHQVRFV0FZIC0tPiBseXJpY3NfdGV4dF9lbmNvZGVyOjo6UE9EOwpseXJpY3NfdGV4dF9lbmNvZGVyOjo6UE9EIC0tPiBseXJpY3NfdGV4dF9pbmRleGVyOjo6UE9EOwpseXJpY3NfdGV4dF9pbmRleGVyOjo6UE9EIC0tPiBnYXRld2F5ZW5kW2dhdGV3YXldOjo6R0FURVdBWTsKY2xhc3NEZWYgSU5TUEVDVCBzdHJva2U6I0YyOUM5RgpjbGFzc0RlZiBKT0lOX0lOU1BFQ1Qgc3Ryb2tlOiNGMjlDOUYKY2xhc3NEZWYgR0FURVdBWSBmaWxsOm5vbmUsY29sb3I6IzAwMCxzdHJva2U6bm9uZQpjbGFzc0RlZiBJTlNQRUNUX0FVWF9QQVNTIHN0cm9rZS1kYXNoYXJyYXk6IDIgMgpjbGFzc0RlZiBIRUFEVEFJTCBmaWxsOiMzMkM4Q0QxRAoKY2xhc3NEZWYgRVhURVJOQUwgZmlsbDojZmZmLHN0cm9rZTojMzJDOENE\"/>"
      ],
      "text/plain": [
       "<IPython.core.display.Image object>"
      ]
     },
     "metadata": {},
     "output_type": "display_data"
    }
   ],
   "source": [
    "flow"
   ]
  },
  {
   "cell_type": "code",
   "execution_count": 13,
   "id": "31f5e716-e8a2-4f62-b815-cfdf3b8798a4",
   "metadata": {},
   "outputs": [],
   "source": [
    "#docs[0]"
   ]
  },
  {
   "cell_type": "code",
   "execution_count": 14,
   "id": "eaa6a89c-bbdd-48ac-8026-4fa76a8f0e80",
   "metadata": {},
   "outputs": [],
   "source": [
    "!rm -rf workspace # Remove workspace in case we've indexed stuff before"
   ]
  },
  {
   "cell_type": "code",
   "execution_count": 15,
   "id": "3ad16411-4b84-4bfe-ac82-022064a95c83",
   "metadata": {},
   "outputs": [
    {
     "name": "stderr",
     "output_type": "stream",
     "text": [
      "\u001b[1;33mUserWarning: install \"ipywidgets\" for Jupyter support\u001b[0m \u001b[1;30m(raised from /home/sanjju/miniconda3/envs/jina/lib/python3.9/site-packages/rich/live.py:227)\u001b[0m\n"
     ]
    },
    {
     "data": {
      "text/html": [
       "<pre style=\"white-space:pre;overflow-x:auto;line-height:normal;font-family:Menlo,'DejaVu Sans Mono',consolas,'Courier New',monospace\"></pre>\n"
      ],
      "text/plain": []
     },
     "metadata": {},
     "output_type": "display_data"
    },
    {
     "data": {
      "text/html": [
       "<pre style=\"white-space:pre;overflow-x:auto;line-height:normal;font-family:Menlo,'DejaVu Sans Mono',consolas,'Courier New',monospace\"></pre>\n"
      ],
      "text/plain": []
     },
     "metadata": {},
     "output_type": "display_data"
    },
    {
     "name": "stdout",
     "output_type": "stream",
     "text": [
      "\u001b[32m⠋\u001b[0m 0/3 waiting \u001b[33mlyrics_text_encoder lyrics_text_indexer gateway\u001b[0m to be ready...      "
     ]
    },
    {
     "name": "stderr",
     "output_type": "stream",
     "text": [
      "\u001b[1;33mDeprecationWarning: The loop argument is deprecated since Python 3.8, and scheduled for removal in Python 3.10.\u001b[0m \u001b[1;30m(raised from /home/sanjju/miniconda3/envs/jina/lib/python3.9/site-packages/grpc/aio/_server.py:54)\u001b[0m\n"
     ]
    },
    {
     "name": "stdout",
     "output_type": "stream",
     "text": [
      "\u001b[32m⠧\u001b[0m 2/3 waiting \u001b[33mlyrics_text_encoder\u001b[0m to be ready...                                  "
     ]
    },
    {
     "name": "stderr",
     "output_type": "stream",
     "text": [
      "\u001b[1;33mDeprecationWarning: Creating a LegacyVersion has been deprecated and will be removed in the next major release\u001b[0m \u001b[1;30m(raised from /home/sanjju/miniconda3/envs/jina/lib/python3.9/site-packages/packaging/version.py:111)\u001b[0m\n"
     ]
    },
    {
     "name": "stdout",
     "output_type": "stream",
     "text": [
      "           Flow@69348[I]:\u001b[32m🎉 Flow is ready to use!\u001b[0m                                          \n",
      "\t🔗 Protocol: \t\t\u001b[1mGRPC\u001b[0m\n",
      "\t🏠 Local access:\t\u001b[4m\u001b[36m0.0.0.0:48391\u001b[0m\n",
      "\t🔒 Private network:\t\u001b[4m\u001b[36m192.168.111.107:48391\u001b[0m\u001b[0m\n"
     ]
    },
    {
     "name": "stderr",
     "output_type": "stream",
     "text": [
      "\u001b[1;33mDeprecationWarning: using `traversal_paths` as an argument inside `.batch()` is deprecated. please use `.traverse_flat(traversal_paths=...).batch()` instead\u001b[0m \u001b[1;30m(raised from /home/sanjju/miniconda3/envs/jina/lib/python3.9/site-packages/jina/types/arrays/traversable.py:167)\u001b[0m\n",
      "\u001b[1;33mDeprecationWarning: using `require_attr` as an argument inside `.batch()` is deprecated. please use `.traverse_flat(filter_fn=...).batch()` instead\u001b[0m \u001b[1;30m(raised from /home/sanjju/miniconda3/envs/jina/lib/python3.9/site-packages/jina/types/arrays/traversable.py:191)\u001b[0m\n",
      "\u001b[1;33mDeprecationWarning: The loop argument is deprecated since Python 3.8, and scheduled for removal in Python 3.10.\u001b[0m \u001b[1;30m(raised from /home/sanjju/miniconda3/envs/jina/lib/python3.9/site-packages/grpc/aio/_call.py:374)\u001b[0m\n",
      "\u001b[1;33mDeprecationWarning: The loop argument is deprecated since Python 3.8, and scheduled for removal in Python 3.10.\u001b[0m \u001b[1;30m(raised from /home/sanjju/miniconda3/envs/jina/lib/python3.9/site-packages/jina/peapods/runtimes/gateway/grpc/__init__.py:61)\u001b[0m\n",
      "\u001b[1;33mDeprecationWarning: The loop argument is deprecated since Python 3.8, and scheduled for removal in Python 3.10.\u001b[0m \u001b[1;30m(raised from /home/sanjju/miniconda3/envs/jina/lib/python3.9/site-packages/jina/peapods/runtimes/gateway/grpc/__init__.py:61)\u001b[0m\n"
     ]
    }
   ],
   "source": [
    "with flow:\n",
    "    flow.index(\n",
    "        inputs=docs,\n",
    "  )"
   ]
  },
  {
   "cell_type": "code",
   "execution_count": 16,
   "id": "a6e513d9",
   "metadata": {},
   "outputs": [],
   "source": [
    "for i in docs:\n",
    "    if len(i.text) == 0:\n",
    "        print(i.text)"
   ]
  },
  {
   "cell_type": "code",
   "execution_count": 39,
   "id": "cd2b3d70-449d-4d3e-8ae0-82e5b9e3a739",
   "metadata": {},
   "outputs": [],
   "source": [
    "\n",
    "model = \"sentence-transformers/paraphrase-distilroberta-base-v1\" # Any model from Huggingface"
   ]
  },
  {
   "cell_type": "code",
   "execution_count": 40,
   "id": "73f61cc3-323e-47f2-a312-c6ea3e3757bf",
   "metadata": {},
   "outputs": [],
   "source": [
    "from jina import Flow"
   ]
  },
  {
   "cell_type": "code",
   "execution_count": null,
   "id": "c285c7df-fa6a-4d1c-a71a-f34a655a5334",
   "metadata": {},
   "outputs": [],
   "source": [
    "flow = (\n",
    "    Flow()\n",
    "    .add(\n",
    "        name=\"error_text_encoder\",\n",
    "        uses=\"jinahub://TransformerTorchEncoder\",\n",
    "        uses_with={\"pretrained_model_name_or_path\": model},\n",
    "    )\n",
    "    .add(\n",
    "        name=\"error_text_indexer\",\n",
    "        uses='jinahub://SimpleIndexer',\n",
    "    )\n",
    ")"
   ]
  },
  {
   "cell_type": "markdown",
   "id": "9b532edb",
   "metadata": {},
   "source": [
    "### indexing "
   ]
  },
  {
   "cell_type": "code",
   "execution_count": null,
   "id": "84f61c5b",
   "metadata": {},
   "outputs": [],
   "source": [
    "!rm -rf workspace\n",
    "\n",
    "with flow:\n",
    "    flow.index(\n",
    "      inputs=docs,\n",
    "        docs = docs,\n",
    "        parameters = {'name' : 'somethign', 'xyz' : 'fsdfsdfsa'}\n",
    "  )"
   ]
  },
  {
   "cell_type": "markdown",
   "id": "161f182c",
   "metadata": {},
   "source": [
    "### querying "
   ]
  },
  {
   "cell_type": "code",
   "execution_count": null,
   "id": "03284909",
   "metadata": {},
   "outputs": [],
   "source": [
    "query = Document(text = input('Query product : '))\n",
    "with flow:\n",
    "    response = flow.search(inputs = query, return_results = True)"
   ]
  },
  {
   "cell_type": "markdown",
   "id": "34a8b4f5",
   "metadata": {},
   "source": [
    "### finding the best match"
   ]
  },
  {
   "cell_type": "code",
   "execution_count": null,
   "id": "b5a10474",
   "metadata": {},
   "outputs": [],
   "source": [
    "matches = response[0].docs[0].matches\n",
    "matches"
   ]
  },
  {
   "cell_type": "code",
   "execution_count": null,
   "id": "b2ca65af",
   "metadata": {},
   "outputs": [],
   "source": [
    "for m in matches:\n",
    "    print()\n",
    "    print(f\" product name : {m.text} \".center(80, ' '))\n",
    "    print()\n",
    "    print(m.tags['description'])\n",
    "    print()\n",
    "    print('-' * 80)"
   ]
  },
  {
   "cell_type": "code",
   "execution_count": null,
   "id": "b23d108d",
   "metadata": {},
   "outputs": [],
   "source": []
  }
 ],
 "metadata": {
  "kernelspec": {
   "display_name": "Python 3 (ipykernel)",
   "language": "python",
   "name": "python3"
  },
  "language_info": {
   "codemirror_mode": {
    "name": "ipython",
    "version": 3
   },
   "file_extension": ".py",
   "mimetype": "text/x-python",
   "name": "python",
   "nbconvert_exporter": "python",
   "pygments_lexer": "ipython3",
   "version": "3.9.7"
  }
 },
 "nbformat": 4,
 "nbformat_minor": 5
}
