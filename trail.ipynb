{
 "cells": [
  {
   "cell_type": "code",
   "execution_count": null,
   "id": "eac0dd35-9985-4f21-bf09-0f66b9f79ec1",
   "metadata": {},
   "outputs": [],
   "source": [
    "\n",
    "# !wget https://raw.githubusercontent.com/jina-ai/workshops/main/memes/requirements.txt -qN\n",
    "# !pip install -r requirements.txt\n",
    "# !pip install pandas \n",
    "# !pip install sentence-transformers"
   ]
  },
  {
   "cell_type": "code",
   "execution_count": 22,
   "id": "241b4baa-7672-4c1d-87a1-ede53c9f623a",
   "metadata": {},
   "outputs": [],
   "source": [
    "from jina import Document, DocumentArray\n",
    "import pandas as pd \n",
    "import random"
   ]
  },
  {
   "cell_type": "code",
   "execution_count": 77,
   "id": "6a4c4d04-5255-4873-b519-e41d110934ce",
   "metadata": {},
   "outputs": [],
   "source": [
    "def prep_docs(input_file : str, num_size = -1, shuffle=True):\n",
    "    docs = DocumentArray()\n",
    "    error = []\n",
    "    print(f\"Processing {input_file}\")\n",
    "\n",
    "    df = pd.read_csv(input_file)\n",
    "    df = df.dropna().drop_duplicates()\n",
    "    n = df.shape[0]\n",
    "    \n",
    "\n",
    "    if shuffle:\n",
    "        df = df.sample(frac = 1)\n",
    "    \n",
    "    num_size = n if num_size == -1 else num_size\n",
    "\n",
    "    for idx in range(n):\n",
    "        plyr = df.iloc[idx, 3]\n",
    "        psong = df.iloc[idx, 2]\n",
    "        psinger = df.iloc[idx, 1]\n",
    "        doctext = plyr\n",
    "        if len(doctext) > 0:\n",
    "            doc = Document(text=doctext)\n",
    "            doc.tags['song_name'] = psong\n",
    "            doc.tags['singer'] = psinger\n",
    "            docs.extend([doc])\n",
    "            doc = Document(text = plyr)\n",
    "\n",
    "    return docs[:num_size]"
   ]
  },
  {
   "cell_type": "code",
   "execution_count": 78,
   "id": "3fbc6f41-7f1a-433f-9c44-6f35ddcf5b96",
   "metadata": {},
   "outputs": [
    {
     "name": "stdout",
     "output_type": "stream",
     "text": [
      "Processing lyrics-JINA - Sheet1.csv\n"
     ]
    },
    {
     "data": {
      "text/plain": [
       "<jina.types.arrays.document.DocumentArray length=30 at 140420759320080>"
      ]
     },
     "execution_count": 78,
     "metadata": {},
     "output_type": "execute_result"
    }
   ],
   "source": [
    "docs = prep_docs(input_file= \"lyrics-JINA - Sheet1.csv\", num_size = 30, shuffle=True)\n",
    "docs"
   ]
  },
  {
   "cell_type": "code",
   "execution_count": 79,
   "id": "2a188a79-4f00-43e0-9e60-478b452ce87e",
   "metadata": {},
   "outputs": [],
   "source": [
    "#doc.tags['song_name'] = song_name\n"
   ]
  },
  {
   "cell_type": "code",
   "execution_count": 80,
   "id": "4abde8ec-381e-4da4-ab0a-27fb98e80726",
   "metadata": {},
   "outputs": [
    {
     "data": {
      "text/plain": [
       "30"
      ]
     },
     "execution_count": 80,
     "metadata": {},
     "output_type": "execute_result"
    }
   ],
   "source": [
    "len(docs)"
   ]
  },
  {
   "cell_type": "code",
   "execution_count": 83,
   "id": "472cd114-2160-4ec3-9134-a8f599d78cba",
   "metadata": {},
   "outputs": [
    {
     "data": {
      "text/plain": [
       "(\"Mmm\\nHey, yeah\\n(That's just for fun)\\n(What?)\\nI'm not one to stick around\\nOne strike and you're out, baby\\nDon't care if I sound crazy\\nBut you never let me down, no, no\\nThat's why when the sun's up, I'm stayin'\\nStill layin' in your bed, singin'\\nOoh, ooh, ooh, ooh\\nGot all this time on my hands\\nMight as well cancel our plans, yeah\\nI could stay here for a lifetime\\nSo lock the door\\nAnd throw out the key\\nCan't fight this no more\\nIt's just you and me\\nAnd there's nothing I, nothing I, I can do\\nI'm stuck with you, stuck with you, stuck with you\\nSo go ahead and drive me insane\\nBaby, run your mouth\\nI still wouldn't change being stuck with you\\nStuck with you, stuck with you\\nI'm stuck with you, stuck with you, stuck with you, baby\\nThere's nowhere we need to be\\nNo, no, no\\nI'ma get to know you better\\nKinda hope we're here forever\\nThere's nobody on these streets\\nIf you told me that the world's ending\\nAin't no other way that I could spend it\\nOh, oh, oh, oh\\nGot all this time in my hands\\nMight as well cancel our plans (yeah)\\nI could stay here forever\\nSo lock the door\\nAnd throw out the key\\nCan't fight this no more\\nIt's just you and me\\nAnd there's nothing I, nothing I, I can do\\nI'm stuck with you, stuck with you, stuck with you\\nSo go ahead and drive me insane\\nBaby, run your mouth\\nI still wouldn't change being stuck with you\\nStuck with you, stuck with you\\nI'm stuck with you, stuck with you, stuck with you\\nWhoa, whoa, oh\\nBaby, come take all my time\\nGo on, make me lose my mind\\nWe got all that we need here tonight\\nI lock the door (lock the door)\\nAnd throw out the key\\nCan't fight this no more (can't fight this no more)\\nIt's just you and me\\nAnd there's nothing I, nothing I'd rather do\\nI'm stuck with you, stuck with you, stuck with you\\nSo go ahead and drive me insane\\nBaby, run your mouth\\nI still wouldn't change\\nAll this lovin' you, hatin' you, wantin' you\\nI'm stuck with you, stuck with you, stuck with\\nYou\\nStuck with you, stuck with you, stuck with you\",\n",
       " 'Stuck With You')"
      ]
     },
     "execution_count": 83,
     "metadata": {},
     "output_type": "execute_result"
    }
   ],
   "source": [
    "docs[0].text, docs[0].tags['song_name']"
   ]
  },
  {
   "cell_type": "code",
   "execution_count": 84,
   "id": "33651890-2961-48c1-9908-6fc72e6257f7",
   "metadata": {},
   "outputs": [],
   "source": [
    "for i in docs:\n",
    "    if len(i.text) == 0:\n",
    "        print(i.text)"
   ]
  },
  {
   "cell_type": "code",
   "execution_count": 85,
   "id": "57382724-e8d7-43f8-88f4-050124fe9dde",
   "metadata": {},
   "outputs": [],
   "source": [
    "model = \"sentence-transformers/paraphrase-distilroberta-base-v1\" # Any model from Huggingface"
   ]
  },
  {
   "cell_type": "code",
   "execution_count": 86,
   "id": "15812765-b7f9-4b8b-9f03-c88b81a5adcf",
   "metadata": {},
   "outputs": [],
   "source": [
    "from jina import Flow"
   ]
  },
  {
   "cell_type": "code",
   "execution_count": 88,
   "id": "2943cad8-dd57-44e2-a8c1-c23e0bd673a4",
   "metadata": {},
   "outputs": [],
   "source": [
    "low = (\n",
    "    Flow()\n",
    "    .add(\n",
    "        name=\"lyrics_text_encoder\",\n",
    "        uses=\"jinahub://TransformerTorchEncoder\",\n",
    "        uses_with={\"pretrained_model_name_or_path\": model},\n",
    "    )\n",
    "    .add(\n",
    "        name=\"lyrics_text_indexer\",\n",
    "        uses='jinahub://SimpleIndexer',\n",
    "    )\n",
    ")"
   ]
  },
  {
   "cell_type": "code",
   "execution_count": 89,
   "id": "0a70fffb-9fab-489b-b781-3101580011da",
   "metadata": {},
   "outputs": [
    {
     "data": {
      "text/html": [
       "<img src=\"https://mermaid.ink/svg/JSV7aW5pdDogeyd0aGVtZSc6ICdiYXNlJywgJ3RoZW1lVmFyaWFibGVzJzogeyAncHJpbWFyeUNvbG9yJzogJyMzMkM4Q0QnLCAnZWRnZUxhYmVsQmFja2dyb3VuZCc6JyNmZmYnLCAnY2x1c3RlckJrZyc6ICcjRkZDQzY2J319fSUlCmdyYXBoIExSCmdhdGV3YXkoImdhdGV3YXkiKTo6OkdBVEVXQVkgLS0+IGVycm9yX3RleHRfZW5jb2RlcigiZXJyb3JfdGV4dF9lbmNvZGVyPGJyPihqaW5haHViOi8vVHJhbnNmb3JtZXJUb3JjaEVuY29kZXIpIik6OjpQT0QKZXJyb3JfdGV4dF9lbmNvZGVyKCJlcnJvcl90ZXh0X2VuY29kZXI8YnI+KGppbmFodWI6Ly9UcmFuc2Zvcm1lclRvcmNoRW5jb2RlcikiKTo6OlBPRCAtLT4gZXJyb3JfdGV4dF9pbmRleGVyKCJlcnJvcl90ZXh0X2luZGV4ZXI8YnI+KGppbmFodWI6Ly9TaW1wbGVJbmRleGVyKSIpOjo6UE9ECmVycm9yX3RleHRfaW5kZXhlcigiZXJyb3JfdGV4dF9pbmRleGVyPGJyPihqaW5haHViOi8vU2ltcGxlSW5kZXhlcikiKTo6OlBPRCAtLT4gZ2F0ZXdheV9FTkQoZ2F0ZXdheSk6OjpHQVRFV0FZCmNsYXNzRGVmIFBPRCBmaWxsOiMzMkM4Q0Qsc3Ryb2tlOiMwMDk5OTkKY2xhc3NEZWYgSU5TUEVDVCBmaWxsOiNmZjY2NjYsY29sb3I6I2ZmZgpjbGFzc0RlZiBKT0lOX0lOU1BFQ1QgZmlsbDojZmY2NjY2LGNvbG9yOiNmZmYKY2xhc3NEZWYgR0FURVdBWSBmaWxsOiM2RTcyNzgsY29sb3I6I2ZmZgpjbGFzc0RlZiBJTlNQRUNUX0FVWF9QQVNTIGZpbGw6I2ZmZixjb2xvcjojMDAwLHN0cm9rZS1kYXNoYXJyYXk6IDUgNQpjbGFzc0RlZiBwZWEgZmlsbDojMDA5OTk5LHN0cm9rZTojMUU2RTcz\"/>"
      ],
      "text/plain": [
       "<IPython.core.display.Image object>"
      ]
     },
     "metadata": {},
     "output_type": "display_data"
    }
   ],
   "source": [
    "flow"
   ]
  },
  {
   "cell_type": "code",
   "execution_count": 90,
   "id": "30f20a52-cbed-4065-b231-b0c4241e673f",
   "metadata": {},
   "outputs": [],
   "source": [
    "!rm -rf workspace # Remove workspace in case we've indexed stuff before"
   ]
  },
  {
   "cell_type": "code",
   "execution_count": null,
   "id": "b988ff91-026b-4503-8a71-d62a16b7465b",
   "metadata": {},
   "outputs": [
    {
     "data": {
      "application/vnd.jupyter.widget-view+json": {
       "model_id": "",
       "version_major": 2,
       "version_minor": 0
      },
      "text/plain": [
       "Output()"
      ]
     },
     "metadata": {},
     "output_type": "display_data"
    },
    {
     "data": {
      "text/html": [
       "<pre style=\"white-space:pre;overflow-x:auto;line-height:normal;font-family:Menlo,'DejaVu Sans Mono',consolas,'Courier New',monospace\"></pre>\n"
      ],
      "text/plain": []
     },
     "metadata": {},
     "output_type": "display_data"
    },
    {
     "data": {
      "application/vnd.jupyter.widget-view+json": {
       "model_id": "",
       "version_major": 2,
       "version_minor": 0
      },
      "text/plain": [
       "Output()"
      ]
     },
     "metadata": {},
     "output_type": "display_data"
    },
    {
     "data": {
      "text/html": [
       "<pre style=\"white-space:pre;overflow-x:auto;line-height:normal;font-family:Menlo,'DejaVu Sans Mono',consolas,'Courier New',monospace\"></pre>\n"
      ],
      "text/plain": []
     },
     "metadata": {},
     "output_type": "display_data"
    },
    {
     "name": "stderr",
     "output_type": "stream",
     "text": [
      "2021-11-05 22:27:57.153405: W tensorflow/stream_executor/platform/default/dso_loader.cc:64] Could not load dynamic library 'libcudart.so.11.0'; dlerror: libcudart.so.11.0: cannot open shared object file: No such file or directory\n",
      "2021-11-05 22:27:57.153505: I tensorflow/stream_executor/cuda/cudart_stub.cc:29] Ignore above cudart dlerror if you do not have a GPU set up on your machine.\n",
      "\u001b[1;33mUserWarning: Passing `gradient_checkpointing` to a config initialization is deprecated and will be removed in v5 Transformers. Using `model.gradient_checkpointing_enable()` instead, or if you are using the `Trainer` API, pass `gradient_checkpointing=True` in your `TrainingArguments`.\u001b[0m \u001b[1;30m(raised from /home/sanjju/miniconda3/envs/ml38/lib/python3.8/site-packages/transformers/configuration_utils.py:336)\u001b[0m\n"
     ]
    }
   ],
   "source": [
    "with flow:\n",
    "    flow.index(\n",
    "        inputs=docs,\n",
    "  )"
   ]
  },
  {
   "cell_type": "code",
   "execution_count": null,
   "id": "2db25393-647a-420f-9539-54cef5315409",
   "metadata": {},
   "outputs": [],
   "source": []
  }
 ],
 "metadata": {
  "kernelspec": {
   "display_name": "Python 3 (ipykernel)",
   "language": "python",
   "name": "python3"
  },
  "language_info": {
   "codemirror_mode": {
    "name": "ipython",
    "version": 3
   },
   "file_extension": ".py",
   "mimetype": "text/x-python",
   "name": "python",
   "nbconvert_exporter": "python",
   "pygments_lexer": "ipython3",
   "version": "3.8.11"
  }
 },
 "nbformat": 4,
 "nbformat_minor": 5
}
